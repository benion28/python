{
 "cells": [
  {
   "cell_type": "code",
   "execution_count": 63,
   "metadata": {},
   "outputs": [],
   "source": [
    "# import library\n",
    "from scipy.stats import f_oneway, chisquare\n",
    "import pandas as pd"
   ]
  },
  {
   "cell_type": "code",
   "execution_count": 64,
   "metadata": {},
   "outputs": [
    {
     "data": {
      "text/plain": [
       "(5, 8)"
      ]
     },
     "execution_count": 64,
     "metadata": {},
     "output_type": "execute_result"
    }
   ],
   "source": [
    "# Readig Data\n",
    "data = pd.read_csv(\"C:\\\\Benion\\\\Benion Programmings\\\\Python\\\\AI & ML\\\\data\\\\example-3.csv\")\n",
    "data.shape"
   ]
  },
  {
   "cell_type": "code",
   "execution_count": 65,
   "metadata": {
    "scrolled": true
   },
   "outputs": [
    {
     "data": {
      "text/html": [
       "<div>\n",
       "<style scoped>\n",
       "    .dataframe tbody tr th:only-of-type {\n",
       "        vertical-align: middle;\n",
       "    }\n",
       "\n",
       "    .dataframe tbody tr th {\n",
       "        vertical-align: top;\n",
       "    }\n",
       "\n",
       "    .dataframe thead th {\n",
       "        text-align: right;\n",
       "    }\n",
       "</style>\n",
       "<table border=\"1\" class=\"dataframe\">\n",
       "  <thead>\n",
       "    <tr style=\"text-align: right;\">\n",
       "      <th></th>\n",
       "      <th>treatments</th>\n",
       "      <th>observation 1</th>\n",
       "      <th>observation 2</th>\n",
       "      <th>observation 3</th>\n",
       "      <th>observation 4</th>\n",
       "      <th>observation 5</th>\n",
       "      <th>total</th>\n",
       "      <th>mean</th>\n",
       "    </tr>\n",
       "  </thead>\n",
       "  <tbody>\n",
       "    <tr>\n",
       "      <th>0</th>\n",
       "      <td>treatment  15</td>\n",
       "      <td>7</td>\n",
       "      <td>7</td>\n",
       "      <td>15</td>\n",
       "      <td>11</td>\n",
       "      <td>9</td>\n",
       "      <td>49</td>\n",
       "      <td>9.8</td>\n",
       "    </tr>\n",
       "    <tr>\n",
       "      <th>1</th>\n",
       "      <td>treatment  20</td>\n",
       "      <td>12</td>\n",
       "      <td>17</td>\n",
       "      <td>12</td>\n",
       "      <td>18</td>\n",
       "      <td>18</td>\n",
       "      <td>77</td>\n",
       "      <td>15.4</td>\n",
       "    </tr>\n",
       "    <tr>\n",
       "      <th>2</th>\n",
       "      <td>treatment  25</td>\n",
       "      <td>14</td>\n",
       "      <td>18</td>\n",
       "      <td>18</td>\n",
       "      <td>19</td>\n",
       "      <td>19</td>\n",
       "      <td>88</td>\n",
       "      <td>17.6</td>\n",
       "    </tr>\n",
       "    <tr>\n",
       "      <th>3</th>\n",
       "      <td>treatment  30</td>\n",
       "      <td>19</td>\n",
       "      <td>25</td>\n",
       "      <td>22</td>\n",
       "      <td>19</td>\n",
       "      <td>23</td>\n",
       "      <td>108</td>\n",
       "      <td>21.6</td>\n",
       "    </tr>\n",
       "    <tr>\n",
       "      <th>4</th>\n",
       "      <td>treatment  35</td>\n",
       "      <td>7</td>\n",
       "      <td>10</td>\n",
       "      <td>11</td>\n",
       "      <td>15</td>\n",
       "      <td>11</td>\n",
       "      <td>54</td>\n",
       "      <td>10.8</td>\n",
       "    </tr>\n",
       "  </tbody>\n",
       "</table>\n",
       "</div>"
      ],
      "text/plain": [
       "      treatments  observation 1  observation 2  observation 3  observation 4  \\\n",
       "0  treatment  15              7              7             15             11   \n",
       "1  treatment  20             12             17             12             18   \n",
       "2  treatment  25             14             18             18             19   \n",
       "3  treatment  30             19             25             22             19   \n",
       "4  treatment  35              7             10             11             15   \n",
       "\n",
       "   observation 5  total  mean  \n",
       "0              9     49   9.8  \n",
       "1             18     77  15.4  \n",
       "2             19     88  17.6  \n",
       "3             23    108  21.6  \n",
       "4             11     54  10.8  "
      ]
     },
     "execution_count": 65,
     "metadata": {},
     "output_type": "execute_result"
    }
   ],
   "source": [
    "# Present Data in Table\n",
    "data.head()"
   ]
  },
  {
   "cell_type": "code",
   "execution_count": 66,
   "metadata": {},
   "outputs": [
    {
     "data": {
      "text/plain": [
       "[array([7, 7, 15, 11, 9], dtype=object),\n",
       " array([12, 17, 12, 18, 18], dtype=object),\n",
       " array([14, 18, 18, 19, 19], dtype=object),\n",
       " array([19, 25, 22, 19, 23], dtype=object),\n",
       " array([7, 10, 11, 15, 11], dtype=object)]"
      ]
     },
     "execution_count": 66,
     "metadata": {},
     "output_type": "execute_result"
    }
   ],
   "source": [
    "# Extract treatment values\n",
    "treatment_15 = data[0:1].values.reshape(1, -1)[0][1:6]\n",
    "treatment_20 = data[1:2].values.reshape(1, -1)[0][1:6]\n",
    "treatment_25 = data[2:3].values.reshape(1, -1)[0][1:6]\n",
    "treatment_30 = data[3:4].values.reshape(1, -1)[0][1:6]\n",
    "treatment_35 = data[4:].values.reshape(1, -1)[0][1:6]\n",
    "[treatment_15, treatment_20, treatment_25, treatment_30, treatment_35]"
   ]
  },
  {
   "cell_type": "code",
   "execution_count": 67,
   "metadata": {},
   "outputs": [
    {
     "data": {
      "text/plain": [
       "[array([ 7, 12, 14, 19,  7], dtype=int64),\n",
       " array([ 7, 17, 18, 25, 10], dtype=int64),\n",
       " array([15, 12, 18, 22, 11], dtype=int64),\n",
       " array([11, 18, 19, 19, 15], dtype=int64),\n",
       " array([ 9, 18, 19, 23, 11], dtype=int64)]"
      ]
     },
     "execution_count": 67,
     "metadata": {},
     "output_type": "execute_result"
    }
   ],
   "source": [
    "# Extract observation values\n",
    "observation_1 = data['observation 1'].values.reshape(1, -1)[0]\n",
    "observation_2 = data['observation 2'].values.reshape(1, -1)[0]\n",
    "observation_3 = data['observation 3'].values.reshape(1, -1)[0]\n",
    "observation_4 = data['observation 4'].values.reshape(1, -1)[0]\n",
    "observation_5 = data['observation 5'].values.reshape(1, -1)[0]\n",
    "[observation_1, observation_2, observation_3, observation_4, observation_5]"
   ]
  },
  {
   "cell_type": "code",
   "execution_count": 68,
   "metadata": {},
   "outputs": [
    {
     "data": {
      "text/plain": [
       "F_onewayResult(statistic=14.756823821339955, pvalue=9.127937124058432e-06)"
      ]
     },
     "execution_count": 68,
     "metadata": {},
     "output_type": "execute_result"
    }
   ],
   "source": [
    "# Anova for treatments\n",
    "treatment_anova = f_oneway(treatment_15, treatment_20, treatment_25, treatment_30, treatment_35)\n",
    "treatment_anova"
   ]
  },
  {
   "cell_type": "code",
   "execution_count": 69,
   "metadata": {},
   "outputs": [
    {
     "data": {
      "text/plain": [
       "F_onewayResult(statistic=0.6030964109781843, pvalue=0.66484791866385)"
      ]
     },
     "execution_count": 69,
     "metadata": {},
     "output_type": "execute_result"
    }
   ],
   "source": [
    "# Anova for observations\n",
    "observation_anova = f_oneway(observation_1, observation_2, observation_3, observation_4, observation_5)\n",
    "observation_anova"
   ]
  }
 ],
 "metadata": {
  "kernelspec": {
   "display_name": "Python 3",
   "language": "python",
   "name": "python3"
  },
  "language_info": {
   "codemirror_mode": {
    "name": "ipython",
    "version": 3
   },
   "file_extension": ".py",
   "mimetype": "text/x-python",
   "name": "python",
   "nbconvert_exporter": "python",
   "pygments_lexer": "ipython3",
   "version": "3.7.6"
  }
 },
 "nbformat": 4,
 "nbformat_minor": 4
}
