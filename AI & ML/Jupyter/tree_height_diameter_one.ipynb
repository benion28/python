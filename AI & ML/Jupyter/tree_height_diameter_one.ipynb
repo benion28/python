{
 "cells": [
  {
   "cell_type": "code",
   "execution_count": 500,
   "metadata": {},
   "outputs": [],
   "source": [
    "# Libraries\n",
    "import pandas as pd\n",
    "import numpy as np\n",
    "import seaborn as sns\n",
    "import math\n",
    "import matplotlib.pyplot as plt\n",
    "%matplotlib inline\n",
    "from sklearn.linear_model import LinearRegression\n",
    "from sklearn.svm import SVR\n",
    "from sklearn.metrics import mean_squared_error\n",
    "from sklearn.metrics import mean_absolute_error\n",
    "from sklearn.model_selection import train_test_split\n",
    "from sklearn.externals import joblib\n",
    "from random import randrange"
   ]
  },
  {
   "cell_type": "code",
   "execution_count": 501,
   "metadata": {},
   "outputs": [
    {
     "data": {
      "text/plain": [
       "(450, 3)"
      ]
     },
     "execution_count": 501,
     "metadata": {},
     "output_type": "execute_result"
    }
   ],
   "source": [
    "# Readig Data\n",
    "data = pd.read_csv(\"C:\\\\Benion\\\\Benion Programmings\\\\Python\\\\AI & ML\\\\data\\\\tree-diameter-height.csv\")\n",
    "data.shape"
   ]
  },
  {
   "cell_type": "code",
   "execution_count": 502,
   "metadata": {},
   "outputs": [
    {
     "data": {
      "text/html": [
       "<div>\n",
       "<style scoped>\n",
       "    .dataframe tbody tr th:only-of-type {\n",
       "        vertical-align: middle;\n",
       "    }\n",
       "\n",
       "    .dataframe tbody tr th {\n",
       "        vertical-align: top;\n",
       "    }\n",
       "\n",
       "    .dataframe thead th {\n",
       "        text-align: right;\n",
       "    }\n",
       "</style>\n",
       "<table border=\"1\" class=\"dataframe\">\n",
       "  <thead>\n",
       "    <tr style=\"text-align: right;\">\n",
       "      <th></th>\n",
       "      <th>S/N</th>\n",
       "      <th>Height</th>\n",
       "      <th>Diameter</th>\n",
       "    </tr>\n",
       "  </thead>\n",
       "  <tbody>\n",
       "    <tr>\n",
       "      <th>0</th>\n",
       "      <td>1</td>\n",
       "      <td>16.199683</td>\n",
       "      <td>43.514815</td>\n",
       "    </tr>\n",
       "    <tr>\n",
       "      <th>1</th>\n",
       "      <td>2</td>\n",
       "      <td>20.832644</td>\n",
       "      <td>9.981329</td>\n",
       "    </tr>\n",
       "    <tr>\n",
       "      <th>2</th>\n",
       "      <td>3</td>\n",
       "      <td>0.488141</td>\n",
       "      <td>10.561674</td>\n",
       "    </tr>\n",
       "    <tr>\n",
       "      <th>3</th>\n",
       "      <td>4</td>\n",
       "      <td>22.710793</td>\n",
       "      <td>3.966893</td>\n",
       "    </tr>\n",
       "    <tr>\n",
       "      <th>4</th>\n",
       "      <td>5</td>\n",
       "      <td>7.883484</td>\n",
       "      <td>39.131736</td>\n",
       "    </tr>\n",
       "    <tr>\n",
       "      <th>5</th>\n",
       "      <td>6</td>\n",
       "      <td>10.585037</td>\n",
       "      <td>8.313417</td>\n",
       "    </tr>\n",
       "    <tr>\n",
       "      <th>6</th>\n",
       "      <td>7</td>\n",
       "      <td>3.997367</td>\n",
       "      <td>6.735644</td>\n",
       "    </tr>\n",
       "    <tr>\n",
       "      <th>7</th>\n",
       "      <td>8</td>\n",
       "      <td>20.572101</td>\n",
       "      <td>45.635678</td>\n",
       "    </tr>\n",
       "    <tr>\n",
       "      <th>8</th>\n",
       "      <td>9</td>\n",
       "      <td>4.568331</td>\n",
       "      <td>6.560634</td>\n",
       "    </tr>\n",
       "    <tr>\n",
       "      <th>9</th>\n",
       "      <td>10</td>\n",
       "      <td>22.774925</td>\n",
       "      <td>9.151818</td>\n",
       "    </tr>\n",
       "  </tbody>\n",
       "</table>\n",
       "</div>"
      ],
      "text/plain": [
       "   S/N     Height   Diameter\n",
       "0    1  16.199683  43.514815\n",
       "1    2  20.832644   9.981329\n",
       "2    3   0.488141  10.561674\n",
       "3    4  22.710793   3.966893\n",
       "4    5   7.883484  39.131736\n",
       "5    6  10.585037   8.313417\n",
       "6    7   3.997367   6.735644\n",
       "7    8  20.572101  45.635678\n",
       "8    9   4.568331   6.560634\n",
       "9   10  22.774925   9.151818"
      ]
     },
     "execution_count": 502,
     "metadata": {},
     "output_type": "execute_result"
    }
   ],
   "source": [
    "data.head(10)"
   ]
  },
  {
   "cell_type": "code",
   "execution_count": 503,
   "metadata": {},
   "outputs": [
    {
     "name": "stdout",
     "output_type": "stream",
     "text": [
      "No of Parameters: 450\n"
     ]
    }
   ],
   "source": [
    "# Number of parameters in the original dataset\n",
    "print(f\"No of Parameters: {len(data.index)}\")"
   ]
  },
  {
   "cell_type": "code",
   "execution_count": 504,
   "metadata": {},
   "outputs": [
    {
     "data": {
      "text/plain": [
       "<matplotlib.axes._subplots.AxesSubplot at 0x1f55e6191c8>"
      ]
     },
     "execution_count": 504,
     "metadata": {},
     "output_type": "execute_result"
    },
    {
     "data": {
      "image/png": "[encoded data removed]",
      "text/plain": [
       "<Figure size 432x288 with 1 Axes>"
      ]
     },
     "metadata": {
      "needs_background": "light"
     },
     "output_type": "display_data"
    }
   ],
   "source": [
    "# The Height distribution of the parameters\n",
    "data[\"Height\"].plot.hist()"
   ]
  },
  {
   "cell_type": "code",
   "execution_count": 505,
   "metadata": {},
   "outputs": [
    {
     "data": {
      "text/plain": [
       "<matplotlib.axes._subplots.AxesSubplot at 0x1f55e6cc188>"
      ]
     },
     "execution_count": 505,
     "metadata": {},
     "output_type": "execute_result"
    },
    {
     "data": {
      "image/png": "[encoded data removed]",
      "text/plain": [
       "<Figure size 432x288 with 1 Axes>"
      ]
     },
     "metadata": {
      "needs_background": "light"
     },
     "output_type": "display_data"
    }
   ],
   "source": [
    "# The Diameter distribution of the parameters\n",
    "data[\"Diameter\"].plot.hist()"
   ]
  },
  {
   "cell_type": "code",
   "execution_count": 506,
   "metadata": {},
   "outputs": [
    {
     "data": {
      "image/png": "[encoded data removed]",
      "text/plain": [
       "<Figure size 432x288 with 1 Axes>"
      ]
     },
     "metadata": {
      "needs_background": "light"
     },
     "output_type": "display_data"
    }
   ],
   "source": [
    "data.plot(x=\"Height\", y=\"Diameter\", style=\"o\")\n",
    "plt.title(\"Height vs Diameter\")\n",
    "plt.xlabel(\"Height\")\n",
    "plt.ylabel(\"Diameter\")\n",
    "plt.show()"
   ]
  },
  {
   "cell_type": "code",
   "execution_count": 507,
   "metadata": {},
   "outputs": [],
   "source": [
    "# Declaring Dependent and Independent Variables\n",
    "X = data[\"Height\"].values.reshape(-1, 1)\n",
    "y = data[\"Diameter\"].values.reshape(-1, 1)"
   ]
  },
  {
   "cell_type": "code",
   "execution_count": 508,
   "metadata": {},
   "outputs": [],
   "source": [
    "# Data Splitting\n",
    "X_train, X_test, y_train, y_test = train_test_split(X, y, test_size=0.2, random_state=0)"
   ]
  },
  {
   "cell_type": "code",
   "execution_count": 509,
   "metadata": {},
   "outputs": [
    {
     "name": "stdout",
     "output_type": "stream",
     "text": [
      "Intercept: 21.466767424584788\n",
      "Slope: 0.10267833418709733\n"
     ]
    }
   ],
   "source": [
    "# Fit Data into our model\n",
    "# model = LinearRegression()\n",
    "# model.fit(X_train, y_train)\n",
    "# joblib.dump(model, \"C:\\\\Benion\\\\Benion Programmings\\\\Python\\\\AI & ML\\\\data\\\\height-diameter.joblib\")\n",
    "model = joblib.load(\"C:\\\\Benion\\\\Benion Programmings\\\\Python\\\\AI & ML\\\\data\\\\height-diameter.joblib\")\n",
    "intercept = model.intercept_[0]\n",
    "slope = model.coef_[0][0]\n",
    "print(f\"Intercept: {intercept}\")\n",
    "print(f\"Slope: {slope}\")"
   ]
  },
  {
   "cell_type": "code",
   "execution_count": 510,
   "metadata": {},
   "outputs": [],
   "source": [
    "# Make Prediction\n",
    "predictions = model.predict(X_test)"
   ]
  },
  {
   "cell_type": "code",
   "execution_count": 511,
   "metadata": {},
   "outputs": [
    {
     "data": {
      "text/html": [
       "<div>\n",
       "<style scoped>\n",
       "    .dataframe tbody tr th:only-of-type {\n",
       "        vertical-align: middle;\n",
       "    }\n",
       "\n",
       "    .dataframe tbody tr th {\n",
       "        vertical-align: top;\n",
       "    }\n",
       "\n",
       "    .dataframe thead th {\n",
       "        text-align: right;\n",
       "    }\n",
       "</style>\n",
       "<table border=\"1\" class=\"dataframe\">\n",
       "  <thead>\n",
       "    <tr style=\"text-align: right;\">\n",
       "      <th></th>\n",
       "      <th>Actual(x)</th>\n",
       "      <th>Actual(y)</th>\n",
       "      <th>Predicted(y)</th>\n",
       "    </tr>\n",
       "  </thead>\n",
       "  <tbody>\n",
       "    <tr>\n",
       "      <th>0</th>\n",
       "      <td>17.686604</td>\n",
       "      <td>2.723447</td>\n",
       "      <td>23.282798</td>\n",
       "    </tr>\n",
       "    <tr>\n",
       "      <th>1</th>\n",
       "      <td>15.830319</td>\n",
       "      <td>7.897541</td>\n",
       "      <td>23.092198</td>\n",
       "    </tr>\n",
       "    <tr>\n",
       "      <th>2</th>\n",
       "      <td>15.796743</td>\n",
       "      <td>18.023670</td>\n",
       "      <td>23.088751</td>\n",
       "    </tr>\n",
       "    <tr>\n",
       "      <th>3</th>\n",
       "      <td>17.549619</td>\n",
       "      <td>21.813627</td>\n",
       "      <td>23.268733</td>\n",
       "    </tr>\n",
       "    <tr>\n",
       "      <th>4</th>\n",
       "      <td>2.194713</td>\n",
       "      <td>27.055545</td>\n",
       "      <td>21.692117</td>\n",
       "    </tr>\n",
       "    <tr>\n",
       "      <th>...</th>\n",
       "      <td>...</td>\n",
       "      <td>...</td>\n",
       "      <td>...</td>\n",
       "    </tr>\n",
       "    <tr>\n",
       "      <th>85</th>\n",
       "      <td>12.594174</td>\n",
       "      <td>20.803021</td>\n",
       "      <td>22.759916</td>\n",
       "    </tr>\n",
       "    <tr>\n",
       "      <th>86</th>\n",
       "      <td>22.923487</td>\n",
       "      <td>34.320501</td>\n",
       "      <td>23.820513</td>\n",
       "    </tr>\n",
       "    <tr>\n",
       "      <th>87</th>\n",
       "      <td>0.159893</td>\n",
       "      <td>20.314663</td>\n",
       "      <td>21.483185</td>\n",
       "    </tr>\n",
       "    <tr>\n",
       "      <th>88</th>\n",
       "      <td>6.852907</td>\n",
       "      <td>19.856327</td>\n",
       "      <td>22.170413</td>\n",
       "    </tr>\n",
       "    <tr>\n",
       "      <th>89</th>\n",
       "      <td>0.724433</td>\n",
       "      <td>30.956985</td>\n",
       "      <td>21.541151</td>\n",
       "    </tr>\n",
       "  </tbody>\n",
       "</table>\n",
       "<p>90 rows × 3 columns</p>\n",
       "</div>"
      ],
      "text/plain": [
       "    Actual(x)  Actual(y)  Predicted(y)\n",
       "0   17.686604   2.723447     23.282798\n",
       "1   15.830319   7.897541     23.092198\n",
       "2   15.796743  18.023670     23.088751\n",
       "3   17.549619  21.813627     23.268733\n",
       "4    2.194713  27.055545     21.692117\n",
       "..        ...        ...           ...\n",
       "85  12.594174  20.803021     22.759916\n",
       "86  22.923487  34.320501     23.820513\n",
       "87   0.159893  20.314663     21.483185\n",
       "88   6.852907  19.856327     22.170413\n",
       "89   0.724433  30.956985     21.541151\n",
       "\n",
       "[90 rows x 3 columns]"
      ]
     },
     "execution_count": 511,
     "metadata": {},
     "output_type": "execute_result"
    }
   ],
   "source": [
    "# Compare the actual value and the predicted values\n",
    "data_frame = pd.DataFrame({\"Actual(x)\": X_test.flatten(), \"Actual(y)\": y_test.flatten(), \"Predicted(y)\": predictions.flatten()})\n",
    "data_frame"
   ]
  },
  {
   "cell_type": "code",
   "execution_count": 512,
   "metadata": {},
   "outputs": [
    {
     "data": {
      "image/png": "[encoded data removed]",
      "text/plain": [
       "<Figure size 1152x720 with 1 Axes>"
      ]
     },
     "metadata": {
      "needs_background": "light"
     },
     "output_type": "display_data"
    }
   ],
   "source": [
    "# Bar Graph\n",
    "y_frame = pd.DataFrame({\"Actual(y)\": y_test.flatten(), \"Predicted(y)\": predictions.flatten()})\n",
    "data_frame_graph = y_frame.head(25)\n",
    "data_frame_graph.plot(kind=\"bar\", figsize=(16, 10))\n",
    "plt.grid(which=\"major\", linestyle=\"-\", linewidth=\"0.5\", color=\"green\")\n",
    "plt.grid(which=\"minor\", linestyle=\":\", linewidth=\"0.5\", color=\"black\")\n",
    "plt.show()"
   ]
  },
  {
   "cell_type": "code",
   "execution_count": 513,
   "metadata": {},
   "outputs": [
    {
     "data": {
      "image/png": "[encoded data removed]",
      "text/plain": [
       "<Figure size 432x288 with 1 Axes>"
      ]
     },
     "metadata": {
      "needs_background": "light"
     },
     "output_type": "display_data"
    }
   ],
   "source": [
    "# A Straight Line Plot\n",
    "plt.scatter(X_test, y_test, color=\"gray\")\n",
    "plt.plot(X_test, predictions, color=\"red\", linewidth=2)\n",
    "plt.show()"
   ]
  },
  {
   "cell_type": "code",
   "execution_count": 514,
   "metadata": {},
   "outputs": [
    {
     "name": "stdout",
     "output_type": "stream",
     "text": [
      "Mean Absolute Error: 10.76205518425184\n",
      "Mean Squared Error: 158.16089408410457\n",
      "Root Mean Squared Error: 12.57620348452205\n",
      "r^2 Score: 0.0028348693460952257 -- (0.28348693460952257)%\n"
     ]
    }
   ],
   "source": [
    "# Errors\n",
    "mean_absolute_error = mean_absolute_error(y_test, predictions)\n",
    "mean_squared_error = mean_squared_error(y_test, predictions)\n",
    "root_mean_squared_error = np.sqrt(mean_squared_error)\n",
    "r2_score = model.score(X_train, y_train)\n",
    "print(f\"Mean Absolute Error: {mean_absolute_error}\")\n",
    "print(f\"Mean Squared Error: {mean_squared_error}\")\n",
    "print(f\"Root Mean Squared Error: {root_mean_squared_error}\")\n",
    "print(f\"r^2 Score: {r2_score} -- ({r2_score * 100})%\")"
   ]
  },
  {
   "cell_type": "code",
   "execution_count": 515,
   "metadata": {},
   "outputs": [
    {
     "name": "stdout",
     "output_type": "stream",
     "text": [
      "Predicted Diameter(y): 23.14248900665183\n"
     ]
    }
   ],
   "source": [
    "# Make Predictions Manually\n",
    "# regression_model = LinearRegression()\n",
    "# regression_model.fit(X, y)\n",
    "regression_model = joblib.load(\"C:\\\\Benion\\\\Benion Programmings\\\\Python\\\\AI & ML\\\\data\\\\manual-height-diameter.joblib\")\n",
    "X_predict = [[14.543234]]\n",
    "y_predict = regression_model.predict(X_predict)\n",
    "predicted_value = y_predict[0][0]\n",
    "print(f\"Predicted Diameter(y): {predicted_value}\")"
   ]
  },
  {
   "cell_type": "code",
   "execution_count": 516,
   "metadata": {},
   "outputs": [
    {
     "data": {
      "text/html": [
       "<div>\n",
       "<style scoped>\n",
       "    .dataframe tbody tr th:only-of-type {\n",
       "        vertical-align: middle;\n",
       "    }\n",
       "\n",
       "    .dataframe tbody tr th {\n",
       "        vertical-align: top;\n",
       "    }\n",
       "\n",
       "    .dataframe thead th {\n",
       "        text-align: right;\n",
       "    }\n",
       "</style>\n",
       "<table border=\"1\" class=\"dataframe\">\n",
       "  <thead>\n",
       "    <tr style=\"text-align: right;\">\n",
       "      <th></th>\n",
       "      <th>S/N</th>\n",
       "      <th>Height</th>\n",
       "      <th>Diameter</th>\n",
       "    </tr>\n",
       "  </thead>\n",
       "  <tbody>\n",
       "    <tr>\n",
       "      <th>0</th>\n",
       "      <td>1</td>\n",
       "      <td>16.199683</td>\n",
       "      <td>43.514815</td>\n",
       "    </tr>\n",
       "    <tr>\n",
       "      <th>1</th>\n",
       "      <td>2</td>\n",
       "      <td>20.832644</td>\n",
       "      <td>9.981329</td>\n",
       "    </tr>\n",
       "    <tr>\n",
       "      <th>2</th>\n",
       "      <td>3</td>\n",
       "      <td>0.488141</td>\n",
       "      <td>10.561674</td>\n",
       "    </tr>\n",
       "    <tr>\n",
       "      <th>3</th>\n",
       "      <td>4</td>\n",
       "      <td>22.710793</td>\n",
       "      <td>3.966893</td>\n",
       "    </tr>\n",
       "    <tr>\n",
       "      <th>4</th>\n",
       "      <td>5</td>\n",
       "      <td>7.883484</td>\n",
       "      <td>39.131736</td>\n",
       "    </tr>\n",
       "    <tr>\n",
       "      <th>...</th>\n",
       "      <td>...</td>\n",
       "      <td>...</td>\n",
       "      <td>...</td>\n",
       "    </tr>\n",
       "    <tr>\n",
       "      <th>445</th>\n",
       "      <td>446</td>\n",
       "      <td>4.429514</td>\n",
       "      <td>19.794388</td>\n",
       "    </tr>\n",
       "    <tr>\n",
       "      <th>446</th>\n",
       "      <td>447</td>\n",
       "      <td>18.507230</td>\n",
       "      <td>26.041475</td>\n",
       "    </tr>\n",
       "    <tr>\n",
       "      <th>447</th>\n",
       "      <td>448</td>\n",
       "      <td>17.587551</td>\n",
       "      <td>45.647190</td>\n",
       "    </tr>\n",
       "    <tr>\n",
       "      <th>448</th>\n",
       "      <td>449</td>\n",
       "      <td>11.075819</td>\n",
       "      <td>6.794715</td>\n",
       "    </tr>\n",
       "    <tr>\n",
       "      <th>449</th>\n",
       "      <td>450</td>\n",
       "      <td>9.012618</td>\n",
       "      <td>14.321403</td>\n",
       "    </tr>\n",
       "  </tbody>\n",
       "</table>\n",
       "<p>450 rows × 3 columns</p>\n",
       "</div>"
      ],
      "text/plain": [
       "     S/N     Height   Diameter\n",
       "0      1  16.199683  43.514815\n",
       "1      2  20.832644   9.981329\n",
       "2      3   0.488141  10.561674\n",
       "3      4  22.710793   3.966893\n",
       "4      5   7.883484  39.131736\n",
       "..   ...        ...        ...\n",
       "445  446   4.429514  19.794388\n",
       "446  447  18.507230  26.041475\n",
       "447  448  17.587551  45.647190\n",
       "448  449  11.075819   6.794715\n",
       "449  450   9.012618  14.321403\n",
       "\n",
       "[450 rows x 3 columns]"
      ]
     },
     "execution_count": 516,
     "metadata": {},
     "output_type": "execute_result"
    }
   ],
   "source": [
    "# Generate Manual Values\n",
    "manual_data = data\n",
    "manual_data"
   ]
  },
  {
   "cell_type": "code",
   "execution_count": 517,
   "metadata": {},
   "outputs": [
    {
     "name": "stdout",
     "output_type": "stream",
     "text": [
      "[[1, 16.19968287, 43.514814799999996], [2, 20.83264385, 9.981328836], [3, 0.488141204, 10.56167428], [4, 22.71079297, 3.9668930760000003], [5, 7.8834841110000005, 39.13173601], [6, 10.58503663, 8.313417367000001], [7, 3.997367183, 6.735644381], [8, 20.57210104, 45.63567819], [9, 4.568331015, 6.560633934], [10, 22.77492543, 9.151818183], [11, 11.30824107, 32.23326853], [12, 5.098710189, 38.84630313], [13, 10.570542199999998, 29.42683548], [14, 1.786846845, 31.65983459], [15, 2.6536634969999997, 12.31954399], [16, 14.98773076, 34.03807509], [17, 19.26155786, 31.10108861], [18, 8.017870103, 13.58870579], [19, 1.607263729, 11.85702232], [20, 7.956013905, 13.08583591], [21, 20.621859699999998, 41.72963018], [22, 13.68723095, 23.70062496], [23, 17.70566774, 40.44621563], [24, 10.75257214, 42.81066187], [25, 11.06785078, 45.65434492], [26, 15.8660563, 35.23248385], [27, 11.47382563, 19.44083808], [28, 11.94007768, 26.23688286], [29, 22.8654612, 45.49722768], [30, 5.245633764, 26.28390162], [31, 2.6372344269999997, 45.81807371], [32, 0.235718819, 26.4600347], [33, 9.168662759, 5.7963231120000005], [34, 12.28127657, 32.97241673], [35, 1.892649518, 36.83515223], [36, 9.477442055, 23.63209012], [37, 18.74680101, 5.583958911], [38, 18.92286675, 34.63548383], [39, 4.758295198, 29.34474288], [40, 10.11638318, 29.79851824], [41, 10.49122562, 41.44638837], [42, 22.64306492, 18.536414], [43, 0.644689257, 45.78233128], [44, 11.94078214, 41.47635228], [45, 10.82521884, 0.111860139], [46, 16.207976300000002, 15.52742681], [47, 11.25198296, 3.212537531], [48, 8.806858613, 31.74275386], [49, 0.981845405, 18.6454905], [50, 20.62488648, 9.945518441], [51, 15.61291962, 6.417804747999999], [52, 3.184481512, 30.18203431], [53, 6.559775769, 8.519849631], [54, 0.010101899999999999, 13.09853083], [55, 15.83031878, 7.897540992000001], [56, 19.04019756, 34.461915399999995], [57, 21.50554916, 35.82020468], [58, 16.81859868, 1.576257676], [59, 6.683268581, 13.48940605], [60, 6.60257919, 33.38660068], [61, 13.56250123, 26.62183173], [62, 11.90228611, 12.67018768], [63, 3.136651577, 43.3047856], [64, 10.26847345, 5.465431474], [65, 9.886561357, 36.08425633], [66, 15.30952373, 19.03985261], [67, 17.949521700000002, 43.08904424], [68, 3.19708096, 1.536495735], [69, 6.736433122, 2.924310567], [70, 8.758054966, 42.65346726], [71, 7.870851686, 14.36972177], [72, 19.86702132, 4.974299208], [73, 11.53258812, 26.95952783], [74, 1.144152325, 10.55370883], [75, 15.12870058, 41.02148408], [76, 22.82762204, 0.758305232], [77, 13.57192739, 40.14801764], [78, 16.68884861, 29.75492425], [79, 22.34553197, 38.05648322], [80, 13.23127116, 32.61928243], [81, 18.45113414, 23.97889764], [82, 10.00374718, 10.43881903], [83, 17.89925371, 44.47075837], [84, 18.95028963, 24.07715947], [85, 5.9948860260000005, 37.64380377], [86, 22.49614861, 26.574453600000002], [87, 17.47752997, 15.20427961], [88, 7.418410371, 5.337753923], [89, 1.4294385969999999, 28.49247664], [90, 20.17053208, 28.47193139], [91, 9.853186888, 45.00582725], [92, 19.3058556, 11.16899929], [93, 4.52705515, 35.28234353], [94, 13.11822106, 28.82935492], [95, 20.01103365, 44.75040335], [96, 17.0751878, 13.45309737], [97, 6.455196729, 34.83662932], [98, 1.144257101, 5.721283445], [99, 11.24702864, 14.07808908], [100, 10.13864066, 19.63189033], [101, 20.07485762, 39.48214701], [102, 2.723686657, 5.923668147000001], [103, 0.849645399, 23.46024188], [104, 7.934401415, 21.17348121], [105, 5.102699543, 1.803302485], [106, 4.354594406, 5.640689612], [107, 22.80420073, 15.32110762], [108, 12.81951846, 5.974488292], [109, 4.9293260960000005, 33.45128394], [110, 22.25028407, 25.22648522], [111, 13.02015618, 25.59285055], [112, 0.455702082, 1.7739324230000002], [113, 13.86158249, 25.66946578], [114, 3.4008943639999996, 15.06984931], [115, 5.617162519, 12.14474311], [116, 1.95830158, 31.4321599], [117, 7.60767196, 19.779246899999997], [118, 15.10585952, 1.946802177], [119, 7.753829077000001, 31.33539873], [120, 0.708868591, 37.38508866], [121, 15.49745354, 21.03032432], [122, 10.64337498, 20.83092402], [123, 6.2491712260000005, 30.52759311], [124, 10.64938974, 24.15455068], [125, 17.68660356, 2.7234470980000003], [126, 16.80957988, 18.98543966], [127, 1.117666078, 7.539850755], [128, 2.47893915, 45.82987413], [129, 8.783287475, 26.809062899999997], [130, 18.62711036, 42.88494867], [131, 2.4629695590000003, 33.49922005], [132, 1.513614955, 1.549438041], [133, 21.97488505, 25.20617735], [134, 20.37680573, 0.349362281], [135, 14.49838475, 0.177794103], [136, 19.07628777, 12.06958268], [137, 10.67054991, 25.55316655], [138, 3.1767790760000003, 17.91670373], [139, 6.655934935, 24.560321], [140, 15.95866403, 17.08821107], [141, 18.55643651, 26.76879066], [142, 16.16571182, 39.04672832], [143, 21.30183365, 7.064483554], [144, 4.456915653, 5.090027112], [145, 4.0015306289999995, 16.63013071], [146, 6.141383993, 22.48219461], [147, 11.40574869, 32.45347079], [148, 7.599161808, 25.891697699999998], [149, 14.06835458, 5.376912902999999], [150, 6.450873795, 23.50090465], [151, 20.260449899999998, 32.36924647], [152, 8.215100757, 8.094742657000001], [153, 1.069432475, 35.36401866], [154, 9.942332204, 31.13462224], [155, 0.337668326, 42.94010886], [156, 1.410112653, 20.58804515], [157, 13.62365573, 29.77367145], [158, 20.90591195, 10.64477694], [159, 22.923486800000003, 34.32050137], [160, 14.5034413, 14.59097977], [161, 8.316367456, 15.04586218], [162, 22.90158989, 45.00168081], [163, 12.43033363, 4.373312267], [164, 2.529013193, 22.04843519], [165, 9.820521576, 28.27243347], [166, 8.893293391, 18.33494786], [167, 20.44093158, 22.50612219], [168, 18.31052823, 9.257483959], [169, 1.163752958, 37.90634998], [170, 3.397936493, 38.05519396], [171, 1.555314848, 25.26106831], [172, 17.07415897, 32.94656396], [173, 6.358530825, 32.35385191], [174, 19.94197089, 23.1020937], [175, 12.04326271, 33.42109793], [176, 12.59417409, 20.80302123], [177, 7.32025555, 25.91763404], [178, 6.510095205, 34.87398959], [179, 13.62017587, 8.31029308], [180, 3.0661866410000003, 17.72037094], [181, 0.6281248739999999, 20.76817177], [182, 13.15778803, 43.30397585], [183, 22.27592196, 18.51806061], [184, 10.40714122, 44.60940591], [185, 11.18744747, 13.13216817], [186, 19.54450297, 21.22168956], [187, 17.39292284, 4.906158963999999], [188, 14.29421241, 2.388637153], [189, 12.67323017, 12.33148592], [190, 1.059435665, 37.27135115], [191, 12.78780549, 45.02794754], [192, 20.37521944, 7.190853585], [193, 22.62347085, 26.58793752], [194, 7.4624434729999995, 29.81939947], [195, 14.17063066, 13.16316385], [196, 13.07033698, 35.04723486], [197, 0.159893284, 20.31466287], [198, 19.29920205, 27.020655699999995], [199, 10.29477439, 10.80215218], [200, 5.133571982, 4.981285716], [201, 7.41568685, 5.886770241000001], [202, 6.035375393, 29.15055535], [203, 22.30205295, 22.97772683], [204, 2.9859418439999996, 10.99674607], [205, 4.0776604380000006, 13.6976641], [206, 3.9390919689999997, 22.71067362], [207, 17.00641536, 10.59042756], [208, 0.137053911, 20.47483847], [209, 22.44944109, 27.86259826], [210, 10.34931647, 8.606775315], [211, 15.09082569, 42.76142175], [212, 16.36880015, 4.73194584], [213, 18.63033014, 29.57567843], [214, 19.96279562, 9.676729805], [215, 4.206918755, 29.30644622], [216, 22.20447819, 17.6457908], [217, 5.383123932999999, 25.23104283], [218, 5.265598915, 9.975988763], [219, 19.78024945, 0.980731047], [220, 0.9105342590000001, 22.8393008], [221, 14.5945305, 15.16299833], [222, 21.15885144, 40.72906077], [223, 19.67445686, 16.94246048], [224, 20.32204564, 16.39206143], [225, 7.682668292000001, 31.89170172], [226, 14.8882655, 12.71609446], [227, 19.4778479, 18.12507088], [228, 12.05674028, 19.00206778], [229, 5.0073837789999995, 44.25550285], [230, 18.69100441, 29.75680629], [231, 2.194713433, 27.05554478], [232, 9.828407242, 24.17972623], [233, 8.757941685, 20.95555618], [234, 1.049227781, 18.50428971], [235, 11.31306936, 17.80421117], [236, 13.99178037, 8.112313057], [237, 13.12675434, 14.52193229], [238, 4.254015025, 28.02426218], [239, 7.454056587999999, 23.80282565], [240, 2.163360681, 15.87027486], [241, 5.097220909, 6.004350167], [242, 6.852907276, 19.85632696], [243, 18.51820635, 1.253547428], [244, 22.89812373, 33.52176248], [245, 11.80679287, 40.08244449], [246, 16.86427911, 4.564251608999999], [247, 19.24555339, 37.89904038], [248, 0.724433042, 30.95698548], [249, 20.7120204, 36.342585299999996], [250, 1.244314148, 41.0809651], [251, 0.06545250400000001, 33.62492931], [252, 8.412070117999999, 20.02504594], [253, 14.92093871, 41.9453909], [254, 19.40742435, 5.7164602339999995], [255, 9.399710127, 23.63513574], [256, 20.27472739, 5.478216559], [257, 8.414561673, 0.096828667], [258, 9.580989316, 19.26805484], [259, 0.6856158290000001, 6.916733767], [260, 15.78038406, 11.66323901], [261, 8.226625517999999, 18.93733674], [262, 1.4668180240000002, 19.45680839], [263, 8.910649819, 28.47814415], [264, 17.25241645, 13.24012182], [265, 9.104448116, 17.18134086], [266, 7.798298074, 14.76530488], [267, 9.294395116, 2.074961272], [268, 16.75890972, 34.21265875], [269, 15.79674308, 18.02366981], [270, 2.581261414, 31.17377296], [271, 8.409880407000001, 28.6355276], [272, 7.636045654, 44.64127235], [273, 7.965485931, 36.69799035], [274, 5.558203205, 32.37147213], [275, 3.550762696, 23.67125313], [276, 17.44812595, 35.72827319], [277, 17.89421501, 4.545645703], [278, 9.851114922999999, 23.26784969], [279, 17.30546696, 34.18690436], [280, 12.7257554, 6.93564872], [281, 4.430296226, 17.67506729], [282, 17.58964877, 38.037840100000004], [283, 10.97019809, 20.23502857], [284, 13.75596147, 45.71002988], [285, 3.275274516, 35.01357178], [286, 8.146018769, 15.30510816], [287, 15.91396235, 21.76593851], [288, 6.928201131000001, 3.694636707], [289, 2.978005238, 13.46883107], [290, 14.30473262, 25.59238329], [291, 20.91854841, 1.486491622], [292, 21.90486412, 21.56528129], [293, 4.070154313, 18.94922754], [294, 17.5496187, 21.81362673], [295, 20.14491236, 13.07632035], [296, 14.69728173, 15.48613386], [297, 11.54185245, 24.12425059], [298, 17.9611609, 14.30545177], [299, 6.018085111, 18.71678527], [300, 15.31363243, 23.30270667], [301, 20.2491206, 3.5104856960000004], [302, 11.41374438, 44.242592200000004], [303, 1.487098731, 15.72780457], [304, 17.49949683, 38.82282634], [305, 7.636746909, 7.492885205], [306, 14.01949281, 23.96836321], [307, 20.87896291, 40.42032166], [308, 20.28883625, 16.37807935], [309, 19.4527581, 8.08753249], [310, 17.77246303, 14.88468328], [311, 13.60537666, 40.33970688], [312, 15.86316375, 31.89086796], [313, 15.88504222, 34.55261455], [314, 3.214019522, 27.49269261], [315, 14.49676947, 37.51483775], [316, 7.404090328, 23.71750548], [317, 1.818344058, 38.43477152], [318, 12.89782129, 11.17246629], [319, 19.62133417, 0.9972074059999999], [320, 15.05326234, 22.56606243], [321, 6.489047857999999, 42.19645274], [322, 5.5976469579999995, 41.18331849], [323, 8.267665596, 20.42613928], [324, 11.42667964, 40.64167316], [325, 15.97632479, 30.10107263], [326, 7.353839803, 2.805346547], [327, 17.23092697, 37.36276347], [328, 14.00884622, 11.46037757], [329, 16.1216655, 43.87816844], [330, 1.014594177, 21.17921661], [331, 5.615005495, 30.307098800000002], [332, 3.415397425, 3.043631108], [333, 4.743398945, 4.690976496], [334, 8.95739845, 18.09378918], [335, 12.11630207, 0.858402588], [336, 9.77854206, 23.42845537], [337, 13.84422237, 2.181424023], [338, 8.681963871, 18.692012899999998], [339, 20.93863061, 34.84052894], [340, 14.34415338, 39.99588656], [341, 1.673678014, 20.76567257], [342, 5.654797906000001, 41.06857722], [343, 12.71071244, 27.87026476], [344, 22.87712352, 33.15614645], [345, 17.24697232, 40.98342681], [346, 1.72936963, 16.7602569], [347, 9.735756022, 22.00137088], [348, 21.119251100000003, 39.65026317], [349, 11.83596, 31.9237289], [350, 19.41534703, 18.5878716], [351, 2.736435169, 0.9723608909999999], [352, 21.83579765, 31.5236597], [353, 17.39193184, 1.7224663180000002], [354, 5.333244851, 16.3812145], [355, 6.559442664, 19.90031763], [356, 9.770484312, 44.15336957], [357, 20.91487743, 31.95449154], [358, 17.82287649, 6.603777331], [359, 21.33129446, 11.37553414], [360, 5.064067735, 3.722048473], [361, 1.470808757, 2.603299266], [362, 19.84718721, 24.18772879], [363, 15.62800548, 27.91777915], [364, 4.694985942, 3.5314615239999996], [365, 20.99546549, 39.68157196], [366, 19.98073668, 45.68298248], [367, 12.75623901, 2.336766312], [368, 16.75771244, 29.7792152], [369, 18.86256663, 11.3462905], [370, 16.74499768, 33.37323574], [371, 6.220765342000001, 34.56364844], [372, 6.7650137489999995, 16.23423699], [373, 17.77024618, 10.78227035], [374, 19.35952627, 37.26808581], [375, 18.78375229, 27.97040112], [376, 13.21063258, 5.890386222999999], [377, 6.220566333, 24.85550687], [378, 2.9168083339999997, 10.83076857], [379, 6.093759809, 26.11669114], [380, 13.16863296, 19.18236776], [381, 19.30026915, 37.55596274], [382, 12.72515908, 31.47472016], [383, 12.44889373, 4.444916238999999], [384, 9.618345818, 28.25661207], [385, 0.5939320260000001, 27.82099083], [386, 5.685249005, 21.27951026], [387, 20.5249128, 23.78567672], [388, 7.052642207000001, 29.57389996], [389, 1.835487545, 33.11345328], [390, 7.077580309, 40.89519873], [391, 3.716624555, 2.650081735], [392, 12.10569756, 8.956693024], [393, 9.873259124, 8.994050277000001], [394, 18.77052061, 24.76174926], [395, 16.90713284, 13.45081225], [396, 9.022272167999999, 9.909644285], [397, 14.61323093, 40.68925749], [398, 2.7295992289999997, 13.51316004], [399, 3.317204313, 12.4142765], [400, 20.37503537, 25.888734799999998], [401, 16.28606972, 42.11268315], [402, 16.61089326, 28.50113879], [403, 10.30647317, 21.0139535], [404, 19.20759665, 17.50856304], [405, 20.80022754, 24.720975199999998], [406, 5.953400114, 11.85171145], [407, 16.16903425, 45.75968198], [408, 9.198808556, 28.30946436], [409, 11.37025227, 22.64939653], [410, 20.14568392, 10.40828639], [411, 15.29698202, 0.288699443], [412, 19.78797384, 40.5440883], [413, 21.80153856, 35.61999314], [414, 7.326098455, 43.14373771], [415, 4.315253942, 15.39444221], [416, 21.98222165, 39.03418205], [417, 0.8371178309999999, 28.09137331], [418, 22.21842321, 44.67071839], [419, 16.9608784, 24.71616256], [420, 18.09719581, 33.13955734], [421, 6.247224017000001, 14.20970595], [422, 7.28350807, 3.1712896410000004], [423, 14.00997528, 29.10863109], [424, 14.82175539, 12.26396402], [425, 12.49716405, 44.61060307], [426, 0.622914548, 11.41253462], [427, 13.91808336, 2.407133136], [428, 3.00239816, 39.38893253], [429, 18.0228954, 35.09138021], [430, 4.832744421, 28.03943157], [431, 0.703941756, 3.8667735039999998], [432, 6.26183338, 42.8287076], [433, 19.03882583, 42.51693224], [434, 0.12510927800000002, 31.8278874], [435, 15.02081683, 10.95965841], [436, 2.427869661, 14.00604711], [437, 19.3688392, 27.40990766], [438, 2.610187678, 21.33349682], [439, 10.75167545, 20.55436463], [440, 16.11806807, 40.22982024], [441, 16.85923607, 26.01261087], [442, 3.052687104, 21.81073534], [443, 4.7339567869999994, 36.33973838], [444, 9.600971921000001, 23.70657995], [445, 21.07226647, 1.9955880209999999], [446, 4.429513759, 19.79438842], [447, 18.50723003, 26.041474700000002], [448, 17.58755064, 45.64718954], [449, 11.07581861, 6.7947153810000005]]\n"
     ]
    }
   ],
   "source": [
    "# Extract table values into array\n",
    "parameter_data = []\n",
    "\n",
    "s_n = []\n",
    "manual_s_n = data[\"S/N\"].values.reshape(-1, 1)\n",
    "for item in manual_s_n:\n",
    "    position = 0\n",
    "    s_n.append(item[position])\n",
    "    position += 1\n",
    "\n",
    "height = []\n",
    "manual_height = data[\"Height\"].values.reshape(-1, 1)\n",
    "for item in manual_height:\n",
    "    position = 0\n",
    "    height.append(item[position])\n",
    "    position += 1\n",
    "\n",
    "diameter = []\n",
    "manual_diameter = data[\"Diameter\"].values.reshape(-1, 1)\n",
    "for item in manual_diameter:\n",
    "    position = 0\n",
    "    diameter.append(item[position])\n",
    "    position += 1\n",
    "\n",
    "for position in range(449):\n",
    "    data = [s_n[position], height[position], diameter[position]]\n",
    "    parameter_data.append(data)\n",
    "\n",
    "print(parameter_data)"
   ]
  },
  {
   "cell_type": "code",
   "execution_count": 518,
   "metadata": {},
   "outputs": [],
   "source": [
    "# Generate samples\n",
    "no_of_sample = 50\n",
    "list_of_samples = []\n",
    "\n",
    "for count in range(180):\n",
    "    number = randrange(450)\n",
    "    present = False\n",
    "    if len(list_of_samples) == 0:\n",
    "        list_of_samples.append(number)\n",
    "    for sample in list_of_samples:\n",
    "        if sample == number:\n",
    "            present = True\n",
    "    if not present and len(list_of_samples) < no_of_sample:\n",
    "        list_of_samples.append(number)\n",
    "        present = False"
   ]
  },
  {
   "cell_type": "code",
   "execution_count": 519,
   "metadata": {},
   "outputs": [
    {
     "name": "stdout",
     "output_type": "stream",
     "text": [
      "Sample List of 50 samples\n",
      "[[325, 15.97632479, 30.10107263], [128, 2.47893915, 45.82987413], [257, 8.414561673, 0.096828667], [158, 20.90591195, 10.64477694], [297, 11.54185245, 24.12425059], [3, 0.488141204, 10.56167428], [305, 7.636746909, 7.492885205], [275, 3.550762696, 23.67125313], [333, 4.743398945, 4.690976496], [76, 22.82762204, 0.758305232], [366, 19.98073668, 45.68298248], [176, 12.59417409, 20.80302123], [309, 19.4527581, 8.08753249], [328, 14.00884622, 11.46037757], [286, 8.146018769, 15.30510816], [212, 16.36880015, 4.73194584], [119, 7.753829077000001, 31.33539873], [234, 1.049227781, 18.50428971], [247, 19.24555339, 37.89904038], [320, 15.05326234, 22.56606243], [122, 10.64337498, 20.83092402], [300, 15.31363243, 23.30270667], [346, 1.72936963, 16.7602569], [91, 9.853186888, 45.00582725], [22, 13.68723095, 23.70062496], [432, 6.26183338, 42.8287076], [282, 17.58964877, 38.037840100000004], [100, 10.13864066, 19.63189033], [373, 17.77024618, 10.78227035], [408, 9.198808556, 28.30946436], [178, 6.510095205, 34.87398959], [272, 7.636045654, 44.64127235], [394, 18.77052061, 24.76174926], [44, 11.94078214, 41.47635228], [68, 3.19708096, 1.536495735], [435, 15.02081683, 10.95965841], [427, 13.91808336, 2.407133136], [209, 22.44944109, 27.86259826], [342, 5.654797906000001, 41.06857722], [2, 20.83264385, 9.981328836], [93, 4.52705515, 35.28234353], [421, 6.247224017000001, 14.20970595], [449, 11.07581861, 6.7947153810000005], [430, 4.832744421, 28.03943157], [18, 8.017870103, 13.58870579], [145, 4.0015306289999995, 16.63013071], [409, 11.37025227, 22.64939653], [56, 19.04019756, 34.461915399999995], [279, 17.30546696, 34.18690436], [334, 8.95739845, 18.09378918]]\n"
     ]
    }
   ],
   "source": [
    "# Based on the random numbers generate our random array\n",
    "sample_list = []\n",
    "for sample in list_of_samples:\n",
    "    for parameter in parameter_data:\n",
    "        if parameter[0] == sample:\n",
    "            sample_list.append(parameter_data[sample - 1])\n",
    "\n",
    "print(f\"Sample List of {len(sample_list)} samples\")\n",
    "print(sample_list)"
   ]
  },
  {
   "cell_type": "code",
   "execution_count": 520,
   "metadata": {},
   "outputs": [
    {
     "name": "stdout",
     "output_type": "stream",
     "text": [
      "List of height(x) samples\n",
      "[15.97632479, 2.47893915, 8.414561673, 20.90591195, 11.54185245, 0.488141204, 7.636746909, 3.550762696, 4.743398945, 22.82762204, 19.98073668, 12.59417409, 19.4527581, 14.00884622, 8.146018769, 16.36880015, 7.753829077000001, 1.049227781, 19.24555339, 15.05326234, 10.64337498, 15.31363243, 1.72936963, 9.853186888, 13.68723095, 6.26183338, 17.58964877, 10.13864066, 17.77024618, 9.198808556, 6.510095205, 7.636045654, 18.77052061, 11.94078214, 3.19708096, 15.02081683, 13.91808336, 22.44944109, 5.654797906000001, 20.83264385, 4.52705515, 6.247224017000001, 11.07581861, 4.832744421, 8.017870103, 4.0015306289999995, 11.37025227, 19.04019756, 17.30546696, 8.95739845]\n",
      "\n",
      "List of diameter(y) samples\n",
      "[30.10107263, 45.82987413, 0.096828667, 10.64477694, 24.12425059, 10.56167428, 7.492885205, 23.67125313, 4.690976496, 0.758305232, 45.68298248, 20.80302123, 8.08753249, 11.46037757, 15.30510816, 4.73194584, 31.33539873, 18.50428971, 37.89904038, 22.56606243, 20.83092402, 23.30270667, 16.7602569, 45.00582725, 23.70062496, 42.8287076, 38.037840100000004, 19.63189033, 10.78227035, 28.30946436, 34.87398959, 44.64127235, 24.76174926, 41.47635228, 1.536495735, 10.95965841, 2.407133136, 27.86259826, 41.06857722, 9.981328836, 35.28234353, 14.20970595, 6.7947153810000005, 28.03943157, 13.58870579, 16.63013071, 22.64939653, 34.461915399999995, 34.18690436, 18.09378918]\n"
     ]
    }
   ],
   "source": [
    "# Seperate our height(x) and diameter(y) values\n",
    "height_x = []\n",
    "diameter_y = []\n",
    "\n",
    "for item in sample_list:\n",
    "    height_x.append(item[1])\n",
    "    diameter_y.append(item[2])\n",
    "                           \n",
    "print(\"List of height(x) samples\")\n",
    "print(height_x)\n",
    "print()                         \n",
    "print(\"List of diameter(y) samples\")\n",
    "print(diameter_y)"
   ]
  },
  {
   "cell_type": "code",
   "execution_count": 521,
   "metadata": {},
   "outputs": [
    {
     "name": "stdout",
     "output_type": "stream",
     "text": [
      "Sum of X values: 565.7093066030002\n",
      "Sum of Y values: 1107.0443623379997\n",
      "Sum of XY values: 12371.069139907915\n"
     ]
    }
   ],
   "source": [
    "# Summation of x and y values\n",
    "sum_of_x = 0\n",
    "sum_of_y = 0\n",
    "sum_of_xy = 0\n",
    "\n",
    "for x in height_x:\n",
    "    sum_of_x += x\n",
    "\n",
    "for y in diameter_y:\n",
    "    sum_of_y += y\n",
    "    \n",
    "for xy in sample_list:\n",
    "    sum_of_xy += xy[1] * xy[2]\n",
    "\n",
    "print(f\"Sum of X values: {sum_of_x}\")\n",
    "print(f\"Sum of Y values: {sum_of_y}\")\n",
    "print(f\"Sum of XY values: {sum_of_xy}\")"
   ]
  },
  {
   "cell_type": "code",
   "execution_count": 522,
   "metadata": {},
   "outputs": [
    {
     "name": "stdout",
     "output_type": "stream",
     "text": [
      "Sum of X Squares values: 8281.737890710336\n",
      "Sum of Y Squares values: 33295.10239120493\n"
     ]
    }
   ],
   "source": [
    "# Summation of the squares of x and y values\n",
    "sum_of_x_squares = 0\n",
    "sum_of_y_squares = 0\n",
    "\n",
    "for x in height_x:\n",
    "    x2 = x * x\n",
    "    sum_of_x_squares += x2\n",
    "\n",
    "for y in diameter_y:\n",
    "    y2 = y * y\n",
    "    sum_of_y_squares += y2\n",
    "\n",
    "print(f\"Sum of X Squares values: {sum_of_x_squares}\")\n",
    "print(f\"Sum of Y Squares values: {sum_of_y_squares}\")"
   ]
  },
  {
   "cell_type": "code",
   "execution_count": null,
   "metadata": {},
   "outputs": [],
   "source": []
  }
 ],
 "metadata": {
  "kernelspec": {
   "display_name": "Python 3",
   "language": "python",
   "name": "python3"
  },
  "language_info": {
   "codemirror_mode": {
    "name": "ipython",
    "version": 3
   },
   "file_extension": ".py",
   "mimetype": "text/x-python",
   "name": "python",
   "nbconvert_exporter": "python",
   "pygments_lexer": "ipython3",
   "version": "3.7.6"
  }
 },
 "nbformat": 4,
 "nbformat_minor": 4
}
