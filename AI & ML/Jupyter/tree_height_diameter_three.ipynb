{
 "cells": [
  {
   "cell_type": "code",
   "execution_count": 279,
   "metadata": {},
   "outputs": [],
   "source": [
    "# Libraries\n",
    "import pandas as pd\n",
    "import numpy as np\n",
    "import matplotlib.pyplot as plt\n",
    "from sklearn.svm import SVR\n",
    "from sklearn.metrics import mean_squared_error\n",
    "from sklearn.metrics import mean_absolute_error\n",
    "from sklearn.model_selection import train_test_split\n",
    "from sklearn.preprocessing import StandardScaler"
   ]
  },
  {
   "cell_type": "code",
   "execution_count": 280,
   "metadata": {},
   "outputs": [
    {
     "data": {
      "text/plain": [
       "(450, 3)"
      ]
     },
     "execution_count": 280,
     "metadata": {},
     "output_type": "execute_result"
    }
   ],
   "source": [
    "# Readig Data\n",
    "data = pd.read_csv(\"C:\\\\Benion\\\\Benion Programmings\\\\Python\\\\AI & ML\\\\data\\\\tree-diameter-height.csv\")\n",
    "data.shape"
   ]
  },
  {
   "cell_type": "code",
   "execution_count": 281,
   "metadata": {},
   "outputs": [
    {
     "data": {
      "text/html": [
       "<div>\n",
       "<style scoped>\n",
       "    .dataframe tbody tr th:only-of-type {\n",
       "        vertical-align: middle;\n",
       "    }\n",
       "\n",
       "    .dataframe tbody tr th {\n",
       "        vertical-align: top;\n",
       "    }\n",
       "\n",
       "    .dataframe thead th {\n",
       "        text-align: right;\n",
       "    }\n",
       "</style>\n",
       "<table border=\"1\" class=\"dataframe\">\n",
       "  <thead>\n",
       "    <tr style=\"text-align: right;\">\n",
       "      <th></th>\n",
       "      <th>S/N</th>\n",
       "      <th>Height</th>\n",
       "      <th>Diameter</th>\n",
       "    </tr>\n",
       "  </thead>\n",
       "  <tbody>\n",
       "    <tr>\n",
       "      <th>0</th>\n",
       "      <td>1</td>\n",
       "      <td>16.199683</td>\n",
       "      <td>43.514815</td>\n",
       "    </tr>\n",
       "    <tr>\n",
       "      <th>1</th>\n",
       "      <td>2</td>\n",
       "      <td>20.832644</td>\n",
       "      <td>9.981329</td>\n",
       "    </tr>\n",
       "    <tr>\n",
       "      <th>2</th>\n",
       "      <td>3</td>\n",
       "      <td>0.488141</td>\n",
       "      <td>10.561674</td>\n",
       "    </tr>\n",
       "    <tr>\n",
       "      <th>3</th>\n",
       "      <td>4</td>\n",
       "      <td>22.710793</td>\n",
       "      <td>3.966893</td>\n",
       "    </tr>\n",
       "    <tr>\n",
       "      <th>4</th>\n",
       "      <td>5</td>\n",
       "      <td>7.883484</td>\n",
       "      <td>39.131736</td>\n",
       "    </tr>\n",
       "    <tr>\n",
       "      <th>5</th>\n",
       "      <td>6</td>\n",
       "      <td>10.585037</td>\n",
       "      <td>8.313417</td>\n",
       "    </tr>\n",
       "    <tr>\n",
       "      <th>6</th>\n",
       "      <td>7</td>\n",
       "      <td>3.997367</td>\n",
       "      <td>6.735644</td>\n",
       "    </tr>\n",
       "    <tr>\n",
       "      <th>7</th>\n",
       "      <td>8</td>\n",
       "      <td>20.572101</td>\n",
       "      <td>45.635678</td>\n",
       "    </tr>\n",
       "    <tr>\n",
       "      <th>8</th>\n",
       "      <td>9</td>\n",
       "      <td>4.568331</td>\n",
       "      <td>6.560634</td>\n",
       "    </tr>\n",
       "    <tr>\n",
       "      <th>9</th>\n",
       "      <td>10</td>\n",
       "      <td>22.774925</td>\n",
       "      <td>9.151818</td>\n",
       "    </tr>\n",
       "  </tbody>\n",
       "</table>\n",
       "</div>"
      ],
      "text/plain": [
       "   S/N     Height   Diameter\n",
       "0    1  16.199683  43.514815\n",
       "1    2  20.832644   9.981329\n",
       "2    3   0.488141  10.561674\n",
       "3    4  22.710793   3.966893\n",
       "4    5   7.883484  39.131736\n",
       "5    6  10.585037   8.313417\n",
       "6    7   3.997367   6.735644\n",
       "7    8  20.572101  45.635678\n",
       "8    9   4.568331   6.560634\n",
       "9   10  22.774925   9.151818"
      ]
     },
     "execution_count": 281,
     "metadata": {},
     "output_type": "execute_result"
    }
   ],
   "source": [
    "# Visualize Data\n",
    "data.head(10)"
   ]
  },
  {
   "cell_type": "code",
   "execution_count": 282,
   "metadata": {},
   "outputs": [],
   "source": [
    "# Declaring Dependent and Independent Variables\n",
    "height = data[\"Height\"].values.reshape(-1, 1)\n",
    "diameter = data[\"Diameter\"].values.reshape(-1, 1)"
   ]
  },
  {
   "cell_type": "code",
   "execution_count": 283,
   "metadata": {},
   "outputs": [],
   "source": [
    "# Scaling Data\n",
    "sc_X = StandardScaler()\n",
    "sc_y = StandardScaler()\n",
    "X = sc_X.fit_transform(height)\n",
    "y = sc_y.fit_transform(diameter)"
   ]
  },
  {
   "cell_type": "code",
   "execution_count": 284,
   "metadata": {},
   "outputs": [],
   "source": [
    "# Data Splitting\n",
    "X_train, X_test, y_train, y_test = train_test_split(X, y, test_size=0.2) #random_state=0"
   ]
  },
  {
   "cell_type": "code",
   "execution_count": 285,
   "metadata": {},
   "outputs": [
    {
     "name": "stderr",
     "output_type": "stream",
     "text": [
      "C:\\Users\\benion\\anaconda3\\lib\\site-packages\\sklearn\\utils\\validation.py:760: DataConversionWarning: A column-vector y was passed when a 1d array was expected. Please change the shape of y to (n_samples, ), for example using ravel().\n",
      "  y = column_or_1d(y, warn=True)\n"
     ]
    },
    {
     "data": {
      "text/plain": [
       "SVR(C=1.0, cache_size=200, coef0=0.0, degree=3, epsilon=0.1, gamma='scale',\n",
       "    kernel='rbf', max_iter=-1, shrinking=True, tol=0.001, verbose=False)"
      ]
     },
     "execution_count": 285,
     "metadata": {},
     "output_type": "execute_result"
    }
   ],
   "source": [
    "# Implement the Support Vector Machine --> Support Vector Regressor and fit the data\n",
    "model = SVR(kernel=\"rbf\")\n",
    "model.fit(X_train, y_train)"
   ]
  },
  {
   "cell_type": "code",
   "execution_count": 286,
   "metadata": {},
   "outputs": [],
   "source": [
    "# Make Prediction\n",
    "y_predictions = model.predict(X_test)\n",
    "y_predictions = sc_y.inverse_transform(y_predictions)"
   ]
  },
  {
   "cell_type": "code",
   "execution_count": 287,
   "metadata": {},
   "outputs": [
    {
     "data": {
      "text/html": [
       "<div>\n",
       "<style scoped>\n",
       "    .dataframe tbody tr th:only-of-type {\n",
       "        vertical-align: middle;\n",
       "    }\n",
       "\n",
       "    .dataframe tbody tr th {\n",
       "        vertical-align: top;\n",
       "    }\n",
       "\n",
       "    .dataframe thead th {\n",
       "        text-align: right;\n",
       "    }\n",
       "</style>\n",
       "<table border=\"1\" class=\"dataframe\">\n",
       "  <thead>\n",
       "    <tr style=\"text-align: right;\">\n",
       "      <th></th>\n",
       "      <th>Actual(x)</th>\n",
       "      <th>Actual(y)</th>\n",
       "      <th>Predicted(y)</th>\n",
       "    </tr>\n",
       "  </thead>\n",
       "  <tbody>\n",
       "    <tr>\n",
       "      <th>0</th>\n",
       "      <td>19.076288</td>\n",
       "      <td>12.069583</td>\n",
       "      <td>25.769113</td>\n",
       "    </tr>\n",
       "    <tr>\n",
       "      <th>1</th>\n",
       "      <td>19.544503</td>\n",
       "      <td>21.221690</td>\n",
       "      <td>25.677366</td>\n",
       "    </tr>\n",
       "    <tr>\n",
       "      <th>2</th>\n",
       "      <td>22.865461</td>\n",
       "      <td>45.497228</td>\n",
       "      <td>25.370720</td>\n",
       "    </tr>\n",
       "    <tr>\n",
       "      <th>3</th>\n",
       "      <td>10.643375</td>\n",
       "      <td>20.830924</td>\n",
       "      <td>22.859798</td>\n",
       "    </tr>\n",
       "    <tr>\n",
       "      <th>4</th>\n",
       "      <td>4.254015</td>\n",
       "      <td>28.024262</td>\n",
       "      <td>20.906502</td>\n",
       "    </tr>\n",
       "    <tr>\n",
       "      <th>...</th>\n",
       "      <td>...</td>\n",
       "      <td>...</td>\n",
       "      <td>...</td>\n",
       "    </tr>\n",
       "    <tr>\n",
       "      <th>85</th>\n",
       "      <td>16.286070</td>\n",
       "      <td>42.112683</td>\n",
       "      <td>25.534785</td>\n",
       "    </tr>\n",
       "    <tr>\n",
       "      <th>86</th>\n",
       "      <td>1.144152</td>\n",
       "      <td>10.553709</td>\n",
       "      <td>19.254397</td>\n",
       "    </tr>\n",
       "    <tr>\n",
       "      <th>87</th>\n",
       "      <td>9.580989</td>\n",
       "      <td>19.268055</td>\n",
       "      <td>23.060135</td>\n",
       "    </tr>\n",
       "    <tr>\n",
       "      <th>88</th>\n",
       "      <td>14.009975</td>\n",
       "      <td>29.108631</td>\n",
       "      <td>24.085563</td>\n",
       "    </tr>\n",
       "    <tr>\n",
       "      <th>89</th>\n",
       "      <td>6.247224</td>\n",
       "      <td>14.209706</td>\n",
       "      <td>22.771901</td>\n",
       "    </tr>\n",
       "  </tbody>\n",
       "</table>\n",
       "<p>90 rows × 3 columns</p>\n",
       "</div>"
      ],
      "text/plain": [
       "    Actual(x)  Actual(y)  Predicted(y)\n",
       "0   19.076288  12.069583     25.769113\n",
       "1   19.544503  21.221690     25.677366\n",
       "2   22.865461  45.497228     25.370720\n",
       "3   10.643375  20.830924     22.859798\n",
       "4    4.254015  28.024262     20.906502\n",
       "..        ...        ...           ...\n",
       "85  16.286070  42.112683     25.534785\n",
       "86   1.144152  10.553709     19.254397\n",
       "87   9.580989  19.268055     23.060135\n",
       "88  14.009975  29.108631     24.085563\n",
       "89   6.247224  14.209706     22.771901\n",
       "\n",
       "[90 rows x 3 columns]"
      ]
     },
     "execution_count": 287,
     "metadata": {},
     "output_type": "execute_result"
    }
   ],
   "source": [
    "# Table showing the Actual values and the Predicted values\n",
    "data_frame = pd.DataFrame({\"Actual(x)\": sc_X.inverse_transform(X_test.flatten()), \"Actual(y)\": sc_y.inverse_transform(y_test.flatten()), \"Predicted(y)\": y_predictions.flatten()})\n",
    "data_frame"
   ]
  },
  {
   "cell_type": "code",
   "execution_count": 288,
   "metadata": {},
   "outputs": [
    {
     "data": {
      "image/png": "[encoded data removed]",
      "text/plain": [
       "<Figure size 432x288 with 1 Axes>"
      ]
     },
     "metadata": {
      "needs_background": "light"
     },
     "output_type": "display_data"
    }
   ],
   "source": [
    "# Scatter plot of X against y\n",
    "X_grid = np.arange(min(X), max(X), 0.1)\n",
    "X_grid = X_grid.reshape((len(X_grid), 1))\n",
    "plt.scatter(sc_X.inverse_transform(X_test), sc_y.inverse_transform(y_test), color=\"red\")\n",
    "plt.scatter(sc_X.inverse_transform(X_test), y_predictions, color=\"green\")\n",
    "plt.title(\"SVR Regression\")\n",
    "plt.xlabel(\"Height Level\")\n",
    "plt.ylabel(\"Diameter Level\")\n",
    "plt.show()"
   ]
  },
  {
   "cell_type": "code",
   "execution_count": 289,
   "metadata": {},
   "outputs": [
    {
     "name": "stdout",
     "output_type": "stream",
     "text": [
      "Mean Absolute Error: 10.88350752678797\n",
      "Mean Squared Error: 170.30403027570856\n",
      "Root Mean Squared Error: 13.050058631121493\n",
      "r^2 Score: 0.01232411240831377 -- (1.232411240831377)%\n"
     ]
    }
   ],
   "source": [
    "# Errors and Score\n",
    "mean_absolute_error = mean_absolute_error(sc_y.inverse_transform(y_test), y_predictions)\n",
    "mean_squared_error = mean_squared_error(sc_y.inverse_transform(y_test), y_predictions)\n",
    "root_mean_squared_error = np.sqrt(mean_squared_error)\n",
    "r2_score = model.score(X_train, y_train)\n",
    "print(f\"Mean Absolute Error: {mean_absolute_error}\")\n",
    "print(f\"Mean Squared Error: {mean_squared_error}\")\n",
    "print(f\"Root Mean Squared Error: {root_mean_squared_error}\")\n",
    "print(f\"r^2 Score: {r2_score} -- ({r2_score * 100})%\")"
   ]
  },
  {
   "cell_type": "code",
   "execution_count": null,
   "metadata": {},
   "outputs": [],
   "source": []
  }
 ],
 "metadata": {
  "kernelspec": {
   "display_name": "Python 3",
   "language": "python",
   "name": "python3"
  },
  "language_info": {
   "codemirror_mode": {
    "name": "ipython",
    "version": 3
   },
   "file_extension": ".py",
   "mimetype": "text/x-python",
   "name": "python",
   "nbconvert_exporter": "python",
   "pygments_lexer": "ipython3",
   "version": "3.7.6"
  }
 },
 "nbformat": 4,
 "nbformat_minor": 4
}
