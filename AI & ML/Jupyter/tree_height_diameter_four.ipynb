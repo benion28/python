{
 "cells": [
  {
   "cell_type": "code",
   "execution_count": 1,
   "metadata": {},
   "outputs": [],
   "source": [
    "import pandas as pd\n",
    "import numpy as np\n",
    "import seaborn as sns\n",
    "import matplotlib.pyplot as plt\n",
    "from sklearn.linear_model import LinearRegression\n",
    "from sklearn.svm import SVR\n",
    "from sklearn.metrics import mean_squared_error\n",
    "from sklearn.metrics import mean_absolute_error\n",
    "from sklearn.model_selection import train_test_split"
   ]
  },
  {
   "cell_type": "code",
   "execution_count": 2,
   "metadata": {},
   "outputs": [
    {
     "data": {
      "text/plain": [
       "(590, 5)"
      ]
     },
     "execution_count": 2,
     "metadata": {},
     "output_type": "execute_result"
    }
   ],
   "source": [
    "# Readig Data\n",
    "data = pd.read_csv(\"C:\\\\Benion\\\\Benion Programmings\\\\Python\\\\AI & ML\\\\data\\\\benion-tree-hd-dataset-new.csv\")\n",
    "data.shape"
   ]
  },
  {
   "cell_type": "code",
   "execution_count": 3,
   "metadata": {},
   "outputs": [
    {
     "data": {
      "text/html": [
       "<div>\n",
       "<style scoped>\n",
       "    .dataframe tbody tr th:only-of-type {\n",
       "        vertical-align: middle;\n",
       "    }\n",
       "\n",
       "    .dataframe tbody tr th {\n",
       "        vertical-align: top;\n",
       "    }\n",
       "\n",
       "    .dataframe thead th {\n",
       "        text-align: right;\n",
       "    }\n",
       "</style>\n",
       "<table border=\"1\" class=\"dataframe\">\n",
       "  <thead>\n",
       "    <tr style=\"text-align: right;\">\n",
       "      <th></th>\n",
       "      <th>PLOT NO</th>\n",
       "      <th>S/N</th>\n",
       "      <th>SPECIES</th>\n",
       "      <th>DIAMETER</th>\n",
       "      <th>HEIGHT</th>\n",
       "    </tr>\n",
       "  </thead>\n",
       "  <tbody>\n",
       "    <tr>\n",
       "      <th>0</th>\n",
       "      <td>P1</td>\n",
       "      <td>1</td>\n",
       "      <td>Tectona grandis</td>\n",
       "      <td>28.6</td>\n",
       "      <td>13.7</td>\n",
       "    </tr>\n",
       "    <tr>\n",
       "      <th>1</th>\n",
       "      <td>P1</td>\n",
       "      <td>2</td>\n",
       "      <td>Gmelina arborea</td>\n",
       "      <td>34.7</td>\n",
       "      <td>16.3</td>\n",
       "    </tr>\n",
       "    <tr>\n",
       "      <th>2</th>\n",
       "      <td>P1</td>\n",
       "      <td>3</td>\n",
       "      <td>Senna siamea</td>\n",
       "      <td>46.1</td>\n",
       "      <td>18.5</td>\n",
       "    </tr>\n",
       "    <tr>\n",
       "      <th>3</th>\n",
       "      <td>P1</td>\n",
       "      <td>4</td>\n",
       "      <td>Senna siamea</td>\n",
       "      <td>22.0</td>\n",
       "      <td>9.3</td>\n",
       "    </tr>\n",
       "    <tr>\n",
       "      <th>4</th>\n",
       "      <td>P1</td>\n",
       "      <td>5</td>\n",
       "      <td>Senna siamea</td>\n",
       "      <td>25.8</td>\n",
       "      <td>11.0</td>\n",
       "    </tr>\n",
       "    <tr>\n",
       "      <th>5</th>\n",
       "      <td>P1</td>\n",
       "      <td>6</td>\n",
       "      <td>Senna siamea</td>\n",
       "      <td>24.5</td>\n",
       "      <td>10.5</td>\n",
       "    </tr>\n",
       "    <tr>\n",
       "      <th>6</th>\n",
       "      <td>P1</td>\n",
       "      <td>7</td>\n",
       "      <td>Gmelina arborea</td>\n",
       "      <td>50.9</td>\n",
       "      <td>18.9</td>\n",
       "    </tr>\n",
       "    <tr>\n",
       "      <th>7</th>\n",
       "      <td>P1</td>\n",
       "      <td>8</td>\n",
       "      <td>Senna siamea</td>\n",
       "      <td>25.1</td>\n",
       "      <td>11.0</td>\n",
       "    </tr>\n",
       "    <tr>\n",
       "      <th>8</th>\n",
       "      <td>P1</td>\n",
       "      <td>9</td>\n",
       "      <td>Senna siamea</td>\n",
       "      <td>22.9</td>\n",
       "      <td>10.4</td>\n",
       "    </tr>\n",
       "    <tr>\n",
       "      <th>9</th>\n",
       "      <td>P1</td>\n",
       "      <td>10</td>\n",
       "      <td>Senna siamea</td>\n",
       "      <td>27.1</td>\n",
       "      <td>13.0</td>\n",
       "    </tr>\n",
       "  </tbody>\n",
       "</table>\n",
       "</div>"
      ],
      "text/plain": [
       "  PLOT NO  S/N          SPECIES  DIAMETER  HEIGHT\n",
       "0      P1    1  Tectona grandis      28.6    13.7\n",
       "1      P1    2  Gmelina arborea      34.7    16.3\n",
       "2      P1    3     Senna siamea      46.1    18.5\n",
       "3      P1    4     Senna siamea      22.0     9.3\n",
       "4      P1    5     Senna siamea      25.8    11.0\n",
       "5      P1    6     Senna siamea      24.5    10.5\n",
       "6      P1    7  Gmelina arborea      50.9    18.9\n",
       "7      P1    8     Senna siamea      25.1    11.0\n",
       "8      P1    9     Senna siamea      22.9    10.4\n",
       "9      P1   10     Senna siamea      27.1    13.0"
      ]
     },
     "execution_count": 3,
     "metadata": {},
     "output_type": "execute_result"
    }
   ],
   "source": [
    "data.head(10)"
   ]
  },
  {
   "cell_type": "code",
   "execution_count": 5,
   "metadata": {},
   "outputs": [
    {
     "name": "stderr",
     "output_type": "stream",
     "text": [
      "C:\\Users\\benion\\anaconda3\\lib\\site-packages\\sklearn\\utils\\validation.py:760: DataConversionWarning: A column-vector y was passed when a 1d array was expected. Please change the shape of y to (n_samples, ), for example using ravel().\n",
      "  y = column_or_1d(y, warn=True)\n"
     ]
    }
   ],
   "source": [
    "# Declaring Dependent and Independent Variables\n",
    "X = data[\"HEIGHT\"].values.reshape(-1, 1)\n",
    "y = data[\"DIAMETER\"].values.reshape(-1, 1)\n",
    "\n",
    "# Data Splitting\n",
    "X_train, X_test, y_train, y_test = train_test_split(X, y, test_size=0.2, random_state=0)\n",
    "\n",
    "# Implement the Linear Regression\n",
    "lr_model = LinearRegression()\n",
    "lr_model.fit(X_train, y_train)\n",
    "\n",
    "# Implement the Support Vector Machine --> Support Vector Regressor and fit the data\n",
    "svr_model = SVR(kernel=\"rbf\")\n",
    "svr_model.fit(X_train, y_train)\n",
    "\n",
    "# Make Prediction\n",
    "lr_predictions = lr_model.predict(X_test)\n",
    "svr_predictions = svr_model.predict(X_test)"
   ]
  },
  {
   "cell_type": "code",
   "execution_count": 6,
   "metadata": {},
   "outputs": [
    {
     "data": {
      "text/html": [
       "<div>\n",
       "<style scoped>\n",
       "    .dataframe tbody tr th:only-of-type {\n",
       "        vertical-align: middle;\n",
       "    }\n",
       "\n",
       "    .dataframe tbody tr th {\n",
       "        vertical-align: top;\n",
       "    }\n",
       "\n",
       "    .dataframe thead th {\n",
       "        text-align: right;\n",
       "    }\n",
       "</style>\n",
       "<table border=\"1\" class=\"dataframe\">\n",
       "  <thead>\n",
       "    <tr style=\"text-align: right;\">\n",
       "      <th></th>\n",
       "      <th>Actual(y)</th>\n",
       "      <th>LR-Predicted(y)</th>\n",
       "      <th>SVR-Predicted(y)</th>\n",
       "    </tr>\n",
       "  </thead>\n",
       "  <tbody>\n",
       "    <tr>\n",
       "      <th>0</th>\n",
       "      <td>17.2</td>\n",
       "      <td>15.885148</td>\n",
       "      <td>17.099875</td>\n",
       "    </tr>\n",
       "    <tr>\n",
       "      <th>1</th>\n",
       "      <td>22.3</td>\n",
       "      <td>20.902119</td>\n",
       "      <td>20.553526</td>\n",
       "    </tr>\n",
       "    <tr>\n",
       "      <th>2</th>\n",
       "      <td>18.3</td>\n",
       "      <td>15.590032</td>\n",
       "      <td>16.807065</td>\n",
       "    </tr>\n",
       "    <tr>\n",
       "      <th>3</th>\n",
       "      <td>24.2</td>\n",
       "      <td>23.263047</td>\n",
       "      <td>21.840466</td>\n",
       "    </tr>\n",
       "    <tr>\n",
       "      <th>4</th>\n",
       "      <td>18.5</td>\n",
       "      <td>16.475380</td>\n",
       "      <td>17.688666</td>\n",
       "    </tr>\n",
       "    <tr>\n",
       "      <th>...</th>\n",
       "      <td>...</td>\n",
       "      <td>...</td>\n",
       "      <td>...</td>\n",
       "    </tr>\n",
       "    <tr>\n",
       "      <th>113</th>\n",
       "      <td>18.8</td>\n",
       "      <td>17.213170</td>\n",
       "      <td>18.387400</td>\n",
       "    </tr>\n",
       "    <tr>\n",
       "      <th>114</th>\n",
       "      <td>26.4</td>\n",
       "      <td>25.033743</td>\n",
       "      <td>23.326186</td>\n",
       "    </tr>\n",
       "    <tr>\n",
       "      <th>115</th>\n",
       "      <td>36.6</td>\n",
       "      <td>33.592105</td>\n",
       "      <td>34.303245</td>\n",
       "    </tr>\n",
       "    <tr>\n",
       "      <th>116</th>\n",
       "      <td>32.0</td>\n",
       "      <td>32.116525</td>\n",
       "      <td>32.200518</td>\n",
       "    </tr>\n",
       "    <tr>\n",
       "      <th>117</th>\n",
       "      <td>10.2</td>\n",
       "      <td>13.524221</td>\n",
       "      <td>15.244043</td>\n",
       "    </tr>\n",
       "  </tbody>\n",
       "</table>\n",
       "<p>118 rows × 3 columns</p>\n",
       "</div>"
      ],
      "text/plain": [
       "     Actual(y)  LR-Predicted(y)  SVR-Predicted(y)\n",
       "0         17.2        15.885148         17.099875\n",
       "1         22.3        20.902119         20.553526\n",
       "2         18.3        15.590032         16.807065\n",
       "3         24.2        23.263047         21.840466\n",
       "4         18.5        16.475380         17.688666\n",
       "..         ...              ...               ...\n",
       "113       18.8        17.213170         18.387400\n",
       "114       26.4        25.033743         23.326186\n",
       "115       36.6        33.592105         34.303245\n",
       "116       32.0        32.116525         32.200518\n",
       "117       10.2        13.524221         15.244043\n",
       "\n",
       "[118 rows x 3 columns]"
      ]
     },
     "execution_count": 6,
     "metadata": {},
     "output_type": "execute_result"
    }
   ],
   "source": [
    "data_frame = pd.DataFrame({\"Actual(y)\": y_test.flatten(), \"LR-Predicted(y)\": lr_predictions.flatten(), \"SVR-Predicted(y)\": svr_predictions.flatten()})\n",
    "data_frame"
   ]
  },
  {
   "cell_type": "code",
   "execution_count": 7,
   "metadata": {},
   "outputs": [
    {
     "data": {
      "image/png": "[encoded data removed]",
      "text/plain": [
       "<Figure size 1152x720 with 1 Axes>"
      ]
     },
     "metadata": {
      "needs_background": "light"
     },
     "output_type": "display_data"
    }
   ],
   "source": [
    "# Bar Graph\n",
    "data_frame = pd.DataFrame({\"Actual(y)\": y_test.flatten(), \"LR-Predicted(y)\": lr_predictions.flatten(), \"SVR-Predicted(y)\": svr_predictions.flatten()})\n",
    "data_frame_graph = data_frame.head(25)\n",
    "data_frame_graph.plot(kind=\"bar\", figsize=(16, 10))\n",
    "plt.grid(which=\"major\", linestyle=\"-\", linewidth=\"0.5\", color=\"green\")\n",
    "plt.grid(which=\"minor\", linestyle=\":\", linewidth=\"0.5\", color=\"black\")\n",
    "plt.grid(which=\"minor\", linestyle=\":\", linewidth=\"0.5\", color=\"red\")\n",
    "plt.show()"
   ]
  },
  {
   "cell_type": "code",
   "execution_count": 8,
   "metadata": {},
   "outputs": [
    {
     "data": {
      "image/png": "[encoded data removed]",
      "text/plain": [
       "<Figure size 432x288 with 1 Axes>"
      ]
     },
     "metadata": {
      "needs_background": "light"
     },
     "output_type": "display_data"
    }
   ],
   "source": [
    "# SVR Plot\n",
    "X_grid = np.arange(min(X), max(X), 0.1)\n",
    "X_grid = X_grid.reshape((len(X_grid), 1))\n",
    "plt.scatter(X_test, y_test.reshape(-1), color=\"red\")\n",
    "plt.scatter(X_test, svr_predictions, color=\"green\")\n",
    "plt.title(\"SVR Regression\")\n",
    "plt.xlabel(\"Height Level\")\n",
    "plt.ylabel(\"Diameter Level\")\n",
    "plt.show()"
   ]
  },
  {
   "cell_type": "code",
   "execution_count": 9,
   "metadata": {},
   "outputs": [
    {
     "data": {
      "image/png": "[encoded data removed]",
      "text/plain": [
       "<Figure size 432x288 with 1 Axes>"
      ]
     },
     "metadata": {
      "needs_background": "light"
     },
     "output_type": "display_data"
    }
   ],
   "source": [
    "# LR Plot\n",
    "X_grid = np.arange(min(X), max(X), 0.1)\n",
    "X_grid = X_grid.reshape((len(X_grid), 1))\n",
    "plt.scatter(X_test, y_test.reshape(-1), color=\"red\")\n",
    "plt.scatter(X_test, lr_predictions, color=\"green\")\n",
    "plt.title(\"LR Regression\")\n",
    "plt.xlabel(\"Height Level\")\n",
    "plt.ylabel(\"Diameter Level\")\n",
    "plt.show()"
   ]
  },
  {
   "cell_type": "code",
   "execution_count": 10,
   "metadata": {},
   "outputs": [
    {
     "name": "stdout",
     "output_type": "stream",
     "text": [
      "Mean Absolute Error: 1.325065148893127\n",
      "Mean Squared Error: 3.622627607299137\n",
      "Root Mean Squared Error: 1.903320153652332\n",
      "r^2 Score: 0.8508264418663652 -- (85.08264418663653)%\n"
     ]
    }
   ],
   "source": [
    "# SVR\n",
    "svr_mean_absolute_error = mean_absolute_error(y_test, svr_predictions)\n",
    "svr_mean_squared_error = mean_squared_error(y_test, svr_predictions)\n",
    "svr_root_mean_squared_error = np.sqrt(svr_mean_squared_error)\n",
    "svr_r2_score = svr_model.score(X_train, y_train)\n",
    "print(f\"Mean Absolute Error: {svr_mean_absolute_error}\")\n",
    "print(f\"Mean Squared Error: {svr_mean_squared_error}\")\n",
    "print(f\"Root Mean Squared Error: {svr_root_mean_squared_error}\")\n",
    "print(f\"r^2 Score: {svr_r2_score} -- ({svr_r2_score * 100})%\")"
   ]
  },
  {
   "cell_type": "code",
   "execution_count": 11,
   "metadata": {},
   "outputs": [
    {
     "name": "stdout",
     "output_type": "stream",
     "text": [
      "Mean Absolute Error: 1.6230760951912375\n",
      "Mean Squared Error: 3.9128995101944106\n",
      "Root Mean Squared Error: 1.9781050301221144\n",
      "r^2 Score: 0.8271449326302354 -- (82.71449326302354)%\n"
     ]
    }
   ],
   "source": [
    "# LR\n",
    "lr_mean_absolute_error = mean_absolute_error(y_test, lr_predictions)\n",
    "lr_mean_squared_error = mean_squared_error(y_test, lr_predictions)\n",
    "lr_root_mean_squared_error = np.sqrt(lr_mean_squared_error)\n",
    "lr_r2_score = lr_model.score(X_train, y_train)\n",
    "print(f\"Mean Absolute Error: {lr_mean_absolute_error}\")\n",
    "print(f\"Mean Squared Error: {lr_mean_squared_error}\")\n",
    "print(f\"Root Mean Squared Error: {lr_root_mean_squared_error}\")\n",
    "print(f\"r^2 Score: {lr_r2_score} -- ({lr_r2_score * 100})%\")"
   ]
  }
 ],
 "metadata": {
  "kernelspec": {
   "display_name": "Python 3",
   "language": "python",
   "name": "python3"
  }
 },
 "nbformat": 4,
 "nbformat_minor": 4
}
