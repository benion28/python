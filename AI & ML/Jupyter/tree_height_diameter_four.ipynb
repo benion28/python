{
 "cells": [
  {
   "cell_type": "code",
   "execution_count": 102,
   "metadata": {},
   "outputs": [],
   "source": [
    "import pandas as pd\n",
    "import numpy as np\n",
    "import seaborn as sns\n",
    "import matplotlib.pyplot as plt\n",
    "from sklearn.linear_model import LinearRegression\n",
    "from sklearn.svm import SVR\n",
    "from sklearn.metrics import mean_squared_error\n",
    "from sklearn.metrics import mean_absolute_error\n",
    "from sklearn.model_selection import train_test_split"
   ]
  },
  {
   "cell_type": "code",
   "execution_count": 103,
   "metadata": {},
   "outputs": [
    {
     "data": {
      "text/plain": [
       "(450, 3)"
      ]
     },
     "execution_count": 103,
     "metadata": {},
     "output_type": "execute_result"
    }
   ],
   "source": [
    "# Readig Data\n",
    "data = pd.read_csv(\"C:\\\\Benion\\\\Benion Programmings\\\\Python\\\\AI & ML\\\\data\\\\tree-diameter-height.csv\")\n",
    "data.shape"
   ]
  },
  {
   "cell_type": "code",
   "execution_count": 104,
   "metadata": {},
   "outputs": [
    {
     "data": {
      "text/html": [
       "<div>\n",
       "<style scoped>\n",
       "    .dataframe tbody tr th:only-of-type {\n",
       "        vertical-align: middle;\n",
       "    }\n",
       "\n",
       "    .dataframe tbody tr th {\n",
       "        vertical-align: top;\n",
       "    }\n",
       "\n",
       "    .dataframe thead th {\n",
       "        text-align: right;\n",
       "    }\n",
       "</style>\n",
       "<table border=\"1\" class=\"dataframe\">\n",
       "  <thead>\n",
       "    <tr style=\"text-align: right;\">\n",
       "      <th></th>\n",
       "      <th>S/N</th>\n",
       "      <th>Height</th>\n",
       "      <th>Diameter</th>\n",
       "    </tr>\n",
       "  </thead>\n",
       "  <tbody>\n",
       "    <tr>\n",
       "      <th>0</th>\n",
       "      <td>1</td>\n",
       "      <td>16.199683</td>\n",
       "      <td>43.514815</td>\n",
       "    </tr>\n",
       "    <tr>\n",
       "      <th>1</th>\n",
       "      <td>2</td>\n",
       "      <td>20.832644</td>\n",
       "      <td>9.981329</td>\n",
       "    </tr>\n",
       "    <tr>\n",
       "      <th>2</th>\n",
       "      <td>3</td>\n",
       "      <td>0.488141</td>\n",
       "      <td>10.561674</td>\n",
       "    </tr>\n",
       "    <tr>\n",
       "      <th>3</th>\n",
       "      <td>4</td>\n",
       "      <td>22.710793</td>\n",
       "      <td>3.966893</td>\n",
       "    </tr>\n",
       "    <tr>\n",
       "      <th>4</th>\n",
       "      <td>5</td>\n",
       "      <td>7.883484</td>\n",
       "      <td>39.131736</td>\n",
       "    </tr>\n",
       "    <tr>\n",
       "      <th>5</th>\n",
       "      <td>6</td>\n",
       "      <td>10.585037</td>\n",
       "      <td>8.313417</td>\n",
       "    </tr>\n",
       "    <tr>\n",
       "      <th>6</th>\n",
       "      <td>7</td>\n",
       "      <td>3.997367</td>\n",
       "      <td>6.735644</td>\n",
       "    </tr>\n",
       "    <tr>\n",
       "      <th>7</th>\n",
       "      <td>8</td>\n",
       "      <td>20.572101</td>\n",
       "      <td>45.635678</td>\n",
       "    </tr>\n",
       "    <tr>\n",
       "      <th>8</th>\n",
       "      <td>9</td>\n",
       "      <td>4.568331</td>\n",
       "      <td>6.560634</td>\n",
       "    </tr>\n",
       "    <tr>\n",
       "      <th>9</th>\n",
       "      <td>10</td>\n",
       "      <td>22.774925</td>\n",
       "      <td>9.151818</td>\n",
       "    </tr>\n",
       "  </tbody>\n",
       "</table>\n",
       "</div>"
      ],
      "text/plain": [
       "   S/N     Height   Diameter\n",
       "0    1  16.199683  43.514815\n",
       "1    2  20.832644   9.981329\n",
       "2    3   0.488141  10.561674\n",
       "3    4  22.710793   3.966893\n",
       "4    5   7.883484  39.131736\n",
       "5    6  10.585037   8.313417\n",
       "6    7   3.997367   6.735644\n",
       "7    8  20.572101  45.635678\n",
       "8    9   4.568331   6.560634\n",
       "9   10  22.774925   9.151818"
      ]
     },
     "execution_count": 104,
     "metadata": {},
     "output_type": "execute_result"
    }
   ],
   "source": [
    "data.head(10)"
   ]
  },
  {
   "cell_type": "code",
   "execution_count": 105,
   "metadata": {},
   "outputs": [
    {
     "name": "stderr",
     "output_type": "stream",
     "text": [
      "C:\\Users\\benion\\anaconda3\\lib\\site-packages\\sklearn\\utils\\validation.py:760: DataConversionWarning: A column-vector y was passed when a 1d array was expected. Please change the shape of y to (n_samples, ), for example using ravel().\n",
      "  y = column_or_1d(y, warn=True)\n"
     ]
    }
   ],
   "source": [
    "# Declaring Dependent and Independent Variables\n",
    "X = data[\"Height\"].values.reshape(-1, 1)\n",
    "y = data[\"Diameter\"].values.reshape(-1, 1)\n",
    "\n",
    "# Data Splitting\n",
    "X_train, X_test, y_train, y_test = train_test_split(X, y, test_size=0.2, random_state=0)\n",
    "\n",
    "# Implement the Support Vector Machine --> Support Vector Regressor and fit the data\n",
    "lr_model = LinearRegression()\n",
    "lr_model.fit(X_train, y_train)\n",
    "\n",
    "# Implement the Linear Regression\n",
    "svr_model = SVR(kernel=\"rbf\")\n",
    "svr_model.fit(X_train, y_train)\n",
    "\n",
    "# Make Prediction\n",
    "lr_predictions = lr_model.predict(X_test)\n",
    "svr_predictions = svr_model.predict(X_test)"
   ]
  },
  {
   "cell_type": "code",
   "execution_count": 106,
   "metadata": {},
   "outputs": [
    {
     "data": {
      "text/html": [
       "<div>\n",
       "<style scoped>\n",
       "    .dataframe tbody tr th:only-of-type {\n",
       "        vertical-align: middle;\n",
       "    }\n",
       "\n",
       "    .dataframe tbody tr th {\n",
       "        vertical-align: top;\n",
       "    }\n",
       "\n",
       "    .dataframe thead th {\n",
       "        text-align: right;\n",
       "    }\n",
       "</style>\n",
       "<table border=\"1\" class=\"dataframe\">\n",
       "  <thead>\n",
       "    <tr style=\"text-align: right;\">\n",
       "      <th></th>\n",
       "      <th>Actual(y)</th>\n",
       "      <th>LR-Predicted(y)</th>\n",
       "      <th>SVR-Predicted(y)</th>\n",
       "    </tr>\n",
       "  </thead>\n",
       "  <tbody>\n",
       "    <tr>\n",
       "      <th>0</th>\n",
       "      <td>2.723447</td>\n",
       "      <td>23.282798</td>\n",
       "      <td>24.478231</td>\n",
       "    </tr>\n",
       "    <tr>\n",
       "      <th>1</th>\n",
       "      <td>7.897541</td>\n",
       "      <td>23.092198</td>\n",
       "      <td>24.472855</td>\n",
       "    </tr>\n",
       "    <tr>\n",
       "      <th>2</th>\n",
       "      <td>18.023670</td>\n",
       "      <td>23.088751</td>\n",
       "      <td>24.469457</td>\n",
       "    </tr>\n",
       "    <tr>\n",
       "      <th>3</th>\n",
       "      <td>21.813627</td>\n",
       "      <td>23.268733</td>\n",
       "      <td>24.487138</td>\n",
       "    </tr>\n",
       "    <tr>\n",
       "      <th>4</th>\n",
       "      <td>27.055545</td>\n",
       "      <td>21.692117</td>\n",
       "      <td>21.032140</td>\n",
       "    </tr>\n",
       "    <tr>\n",
       "      <th>...</th>\n",
       "      <td>...</td>\n",
       "      <td>...</td>\n",
       "      <td>...</td>\n",
       "    </tr>\n",
       "    <tr>\n",
       "      <th>85</th>\n",
       "      <td>20.803021</td>\n",
       "      <td>22.759916</td>\n",
       "      <td>23.453356</td>\n",
       "    </tr>\n",
       "    <tr>\n",
       "      <th>86</th>\n",
       "      <td>34.320501</td>\n",
       "      <td>23.820513</td>\n",
       "      <td>24.141997</td>\n",
       "    </tr>\n",
       "    <tr>\n",
       "      <th>87</th>\n",
       "      <td>20.314663</td>\n",
       "      <td>21.483185</td>\n",
       "      <td>20.944784</td>\n",
       "    </tr>\n",
       "    <tr>\n",
       "      <th>88</th>\n",
       "      <td>19.856327</td>\n",
       "      <td>22.170413</td>\n",
       "      <td>21.260516</td>\n",
       "    </tr>\n",
       "    <tr>\n",
       "      <th>89</th>\n",
       "      <td>30.956985</td>\n",
       "      <td>21.541151</td>\n",
       "      <td>20.956557</td>\n",
       "    </tr>\n",
       "  </tbody>\n",
       "</table>\n",
       "<p>90 rows × 3 columns</p>\n",
       "</div>"
      ],
      "text/plain": [
       "    Actual(y)  LR-Predicted(y)  SVR-Predicted(y)\n",
       "0    2.723447        23.282798         24.478231\n",
       "1    7.897541        23.092198         24.472855\n",
       "2   18.023670        23.088751         24.469457\n",
       "3   21.813627        23.268733         24.487138\n",
       "4   27.055545        21.692117         21.032140\n",
       "..        ...              ...               ...\n",
       "85  20.803021        22.759916         23.453356\n",
       "86  34.320501        23.820513         24.141997\n",
       "87  20.314663        21.483185         20.944784\n",
       "88  19.856327        22.170413         21.260516\n",
       "89  30.956985        21.541151         20.956557\n",
       "\n",
       "[90 rows x 3 columns]"
      ]
     },
     "execution_count": 106,
     "metadata": {},
     "output_type": "execute_result"
    }
   ],
   "source": [
    "data_frame = pd.DataFrame({\"Actual(y)\": y_test.flatten(), \"LR-Predicted(y)\": lr_predictions.flatten(), \"SVR-Predicted(y)\": svr_predictions.flatten()})\n",
    "data_frame"
   ]
  },
  {
   "cell_type": "code",
   "execution_count": 107,
   "metadata": {},
   "outputs": [
    {
     "data": {
      "image/png": "[encoded data removed]",
      "text/plain": [
       "<Figure size 1152x720 with 1 Axes>"
      ]
     },
     "metadata": {
      "needs_background": "light"
     },
     "output_type": "display_data"
    }
   ],
   "source": [
    "# Bar Graph\n",
    "data_frame = pd.DataFrame({\"Actual(y)\": y_test.flatten(), \"LR-Predicted(y)\": lr_predictions.flatten(), \"SVR-Predicted(y)\": svr_predictions.flatten()})\n",
    "data_frame_graph = data_frame.head(25)\n",
    "data_frame_graph.plot(kind=\"bar\", figsize=(16, 10))\n",
    "plt.grid(which=\"major\", linestyle=\"-\", linewidth=\"0.5\", color=\"green\")\n",
    "plt.grid(which=\"minor\", linestyle=\":\", linewidth=\"0.5\", color=\"black\")\n",
    "plt.grid(which=\"minor\", linestyle=\":\", linewidth=\"0.5\", color=\"red\")\n",
    "plt.show()"
   ]
  },
  {
   "cell_type": "code",
   "execution_count": 108,
   "metadata": {},
   "outputs": [
    {
     "data": {
      "image/png": "[encoded data removed]",
      "text/plain": [
       "<Figure size 432x288 with 1 Axes>"
      ]
     },
     "metadata": {
      "needs_background": "light"
     },
     "output_type": "display_data"
    }
   ],
   "source": [
    "# SVR Plot\n",
    "X_grid = np.arange(min(X), max(X), 0.1)\n",
    "X_grid = X_grid.reshape((len(X_grid), 1))\n",
    "plt.scatter(X_test, y_test.reshape(-1), color=\"red\")\n",
    "plt.scatter(X_test, svr_predictions, color=\"green\")\n",
    "plt.title(\"SVR Regression\")\n",
    "plt.xlabel(\"Height Level\")\n",
    "plt.ylabel(\"Diameter Level\")\n",
    "plt.show()"
   ]
  },
  {
   "cell_type": "code",
   "execution_count": 109,
   "metadata": {},
   "outputs": [
    {
     "data": {
      "image/png": "[encoded data removed]",
      "text/plain": [
       "<Figure size 432x288 with 1 Axes>"
      ]
     },
     "metadata": {
      "needs_background": "light"
     },
     "output_type": "display_data"
    }
   ],
   "source": [
    "# LR Plot\n",
    "X_grid = np.arange(min(X), max(X), 0.1)\n",
    "X_grid = X_grid.reshape((len(X_grid), 1))\n",
    "plt.scatter(X_test, y_test.reshape(-1), color=\"red\")\n",
    "plt.scatter(X_test, lr_predictions, color=\"green\")\n",
    "plt.title(\"LR Regression\")\n",
    "plt.xlabel(\"Height Level\")\n",
    "plt.ylabel(\"Diameter Level\")\n",
    "plt.show()"
   ]
  },
  {
   "cell_type": "code",
   "execution_count": 110,
   "metadata": {},
   "outputs": [
    {
     "name": "stdout",
     "output_type": "stream",
     "text": [
      "Mean Absolute Error: 10.844812438429763\n",
      "Mean Squared Error: 159.90534309448847\n",
      "Root Mean Squared Error: 12.645368444394512\n",
      "r^2 Score: 0.0007705955945490617 -- (0.07705955945490617)%\n"
     ]
    }
   ],
   "source": [
    "# SVR\n",
    "svr_mean_absolute_error = mean_absolute_error(y_test, svr_predictions)\n",
    "svr_mean_squared_error = mean_squared_error(y_test, svr_predictions)\n",
    "svr_root_mean_squared_error = np.sqrt(svr_mean_squared_error)\n",
    "svr_r2_score = svr_model.score(X_train, y_train)\n",
    "print(f\"Mean Absolute Error: {svr_mean_absolute_error}\")\n",
    "print(f\"Mean Squared Error: {svr_mean_squared_error}\")\n",
    "print(f\"Root Mean Squared Error: {svr_root_mean_squared_error}\")\n",
    "print(f\"r^2 Score: {svr_r2_score} -- ({svr_r2_score * 100})%\")"
   ]
  },
  {
   "cell_type": "code",
   "execution_count": 111,
   "metadata": {},
   "outputs": [
    {
     "name": "stdout",
     "output_type": "stream",
     "text": [
      "Mean Absolute Error: 10.76205518425184\n",
      "Mean Squared Error: 158.16089408410457\n",
      "Root Mean Squared Error: 12.57620348452205\n",
      "r^2 Score: 0.0028348693460952257 -- (0.28348693460952257)%\n"
     ]
    }
   ],
   "source": [
    "# LR\n",
    "lr_mean_absolute_error = mean_absolute_error(y_test, lr_predictions)\n",
    "lr_mean_squared_error = mean_squared_error(y_test, lr_predictions)\n",
    "lr_root_mean_squared_error = np.sqrt(lr_mean_squared_error)\n",
    "lr_r2_score = lr_model.score(X_train, y_train)\n",
    "print(f\"Mean Absolute Error: {lr_mean_absolute_error}\")\n",
    "print(f\"Mean Squared Error: {lr_mean_squared_error}\")\n",
    "print(f\"Root Mean Squared Error: {lr_root_mean_squared_error}\")\n",
    "print(f\"r^2 Score: {lr_r2_score} -- ({lr_r2_score * 100})%\")"
   ]
  }
 ],
 "metadata": {
  "kernelspec": {
   "display_name": "Python 3",
   "language": "python",
   "name": "python3"
  },
  "language_info": {
   "codemirror_mode": {
    "name": "ipython",
    "version": 3
   },
   "file_extension": ".py",
   "mimetype": "text/x-python",
   "name": "python",
   "nbconvert_exporter": "python",
   "pygments_lexer": "ipython3",
   "version": "3.7.6"
  }
 },
 "nbformat": 4,
 "nbformat_minor": 4
}
