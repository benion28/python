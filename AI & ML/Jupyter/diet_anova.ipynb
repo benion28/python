{
 "cells": [
  {
   "cell_type": "code",
   "execution_count": 92,
   "metadata": {},
   "outputs": [],
   "source": [
    "# import library\n",
    "from scipy.stats import f_oneway\n",
    "import pandas as pd"
   ]
  },
  {
   "cell_type": "code",
   "execution_count": 93,
   "metadata": {},
   "outputs": [
    {
     "data": {
      "text/plain": [
       "(4, 7)"
      ]
     },
     "execution_count": 93,
     "metadata": {},
     "output_type": "execute_result"
    }
   ],
   "source": [
    "# Readig Data\n",
    "data = pd.read_csv(\"C:\\\\Benion\\\\Benion Programmings\\\\Python\\\\AI & ML\\\\data\\\\diets weight.csv\")\n",
    "data.shape"
   ]
  },
  {
   "cell_type": "code",
   "execution_count": 94,
   "metadata": {},
   "outputs": [
    {
     "data": {
      "text/html": [
       "<div>\n",
       "<style scoped>\n",
       "    .dataframe tbody tr th:only-of-type {\n",
       "        vertical-align: middle;\n",
       "    }\n",
       "\n",
       "    .dataframe tbody tr th {\n",
       "        vertical-align: top;\n",
       "    }\n",
       "\n",
       "    .dataframe thead th {\n",
       "        text-align: right;\n",
       "    }\n",
       "</style>\n",
       "<table border=\"1\" class=\"dataframe\">\n",
       "  <thead>\n",
       "    <tr style=\"text-align: right;\">\n",
       "      <th></th>\n",
       "      <th>Treatments</th>\n",
       "      <th>Location 1</th>\n",
       "      <th>Location 2</th>\n",
       "      <th>Location 3</th>\n",
       "      <th>Location 4</th>\n",
       "      <th>Treatment Total</th>\n",
       "      <th>Treatment Means</th>\n",
       "    </tr>\n",
       "  </thead>\n",
       "  <tbody>\n",
       "    <tr>\n",
       "      <th>0</th>\n",
       "      <td>Diet 1</td>\n",
       "      <td>9.4</td>\n",
       "      <td>8.4</td>\n",
       "      <td>6.9</td>\n",
       "      <td>7.8</td>\n",
       "      <td>32.5</td>\n",
       "      <td>8.13</td>\n",
       "    </tr>\n",
       "    <tr>\n",
       "      <th>1</th>\n",
       "      <td>Diet 2</td>\n",
       "      <td>7.5</td>\n",
       "      <td>5.2</td>\n",
       "      <td>5.6</td>\n",
       "      <td>5.7</td>\n",
       "      <td>24.0</td>\n",
       "      <td>6.00</td>\n",
       "    </tr>\n",
       "    <tr>\n",
       "      <th>2</th>\n",
       "      <td>Diet 3</td>\n",
       "      <td>8.6</td>\n",
       "      <td>8.8</td>\n",
       "      <td>5.8</td>\n",
       "      <td>7.9</td>\n",
       "      <td>31.1</td>\n",
       "      <td>7.78</td>\n",
       "    </tr>\n",
       "    <tr>\n",
       "      <th>3</th>\n",
       "      <td>Block Totals</td>\n",
       "      <td>25.5</td>\n",
       "      <td>22.4</td>\n",
       "      <td>18.3</td>\n",
       "      <td>21.4</td>\n",
       "      <td>NaN</td>\n",
       "      <td>NaN</td>\n",
       "    </tr>\n",
       "  </tbody>\n",
       "</table>\n",
       "</div>"
      ],
      "text/plain": [
       "     Treatments  Location 1  Location 2  Location 3  Location 4  \\\n",
       "0        Diet 1         9.4         8.4         6.9         7.8   \n",
       "1        Diet 2         7.5         5.2         5.6         5.7   \n",
       "2        Diet 3         8.6         8.8         5.8         7.9   \n",
       "3  Block Totals        25.5        22.4        18.3        21.4   \n",
       "\n",
       "   Treatment Total  Treatment Means  \n",
       "0             32.5             8.13  \n",
       "1             24.0             6.00  \n",
       "2             31.1             7.78  \n",
       "3              NaN              NaN  "
      ]
     },
     "execution_count": 94,
     "metadata": {},
     "output_type": "execute_result"
    }
   ],
   "source": [
    "# Present Data in Table\n",
    "data.head()"
   ]
  },
  {
   "cell_type": "code",
   "execution_count": 95,
   "metadata": {},
   "outputs": [
    {
     "data": {
      "text/plain": [
       "[array([9.4, 8.4, 6.9, 7.8], dtype=object),\n",
       " array([7.5, 5.2, 5.6, 5.7], dtype=object),\n",
       " array([8.6, 8.8, 5.8, 7.9], dtype=object)]"
      ]
     },
     "execution_count": 95,
     "metadata": {},
     "output_type": "execute_result"
    }
   ],
   "source": [
    "# Extract diet values\n",
    "diet_1 = data[0:1].values.reshape(1, -1)[0][1:5]\n",
    "diet_2 = data[1:2].values.reshape(1, -1)[0][1:5]\n",
    "diet_3 = data[2:3].values.reshape(1, -1)[0][1:5]\n",
    "[diet_1, diet_2, diet_3]"
   ]
  },
  {
   "cell_type": "code",
   "execution_count": 96,
   "metadata": {},
   "outputs": [
    {
     "data": {
      "text/plain": [
       "[array([9.4, 7.5, 8.6]),\n",
       " array([8.4, 5.2, 8.8]),\n",
       " array([6.9, 5.6, 5.8]),\n",
       " array([7.8, 5.7, 7.9])]"
      ]
     },
     "execution_count": 96,
     "metadata": {},
     "output_type": "execute_result"
    }
   ],
   "source": [
    "# Extract location values\n",
    "location_1 = data['Location 1'].values.reshape(1, -1)[0][:3]\n",
    "location_2 = data['Location 2'].values.reshape(1, -1)[0][:3]\n",
    "location_3 = data['Location 3'].values.reshape(1, -1)[0][:3]\n",
    "location_4 = data['Location 4'].values.reshape(1, -1)[0][:3]\n",
    "[location_1, location_2, location_3, location_4]"
   ]
  },
  {
   "cell_type": "code",
   "execution_count": 97,
   "metadata": {},
   "outputs": [
    {
     "data": {
      "text/plain": [
       "F_onewayResult(statistic=3.863786688714347, pvalue=0.06146714562860119)"
      ]
     },
     "execution_count": 97,
     "metadata": {},
     "output_type": "execute_result"
    }
   ],
   "source": [
    "# Anova for diets\n",
    "diet_anova = f_oneway(diet_1, diet_2, diet_3)\n",
    "diet_anova"
   ]
  },
  {
   "cell_type": "code",
   "execution_count": 98,
   "metadata": {},
   "outputs": [
    {
     "data": {
      "text/plain": [
       "F_onewayResult(statistic=1.7175361612221671, pvalue=0.24029507773285838)"
      ]
     },
     "execution_count": 98,
     "metadata": {},
     "output_type": "execute_result"
    }
   ],
   "source": [
    "# Anova for locations\n",
    "location_anova = f_oneway(location_1, location_2, location_3, location_4)\n",
    "location_anova"
   ]
  }
 ],
 "metadata": {
  "kernelspec": {
   "display_name": "Python 3",
   "language": "python",
   "name": "python3"
  },
  "language_info": {
   "codemirror_mode": {
    "name": "ipython",
    "version": 3
   },
   "file_extension": ".py",
   "mimetype": "text/x-python",
   "name": "python",
   "nbconvert_exporter": "python",
   "pygments_lexer": "ipython3",
   "version": "3.7.6"
  }
 },
 "nbformat": 4,
 "nbformat_minor": 4
}
