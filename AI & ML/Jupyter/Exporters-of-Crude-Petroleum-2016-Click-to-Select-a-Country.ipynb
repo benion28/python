{
 "cells": [
  {
   "cell_type": "code",
   "execution_count": 1,
   "id": "a5d66cb3-916d-42ef-affd-a04de9f849c6",
   "metadata": {},
   "outputs": [
    {
     "name": "stdout",
     "output_type": "stream",
     "text": [
      "#-------------- Importing Libraries -------------------#\n"
     ]
    }
   ],
   "source": [
    "print(\"#-------------- Importing Libraries -------------------#\")\n",
    "import pandas as pd\n",
    "import seaborn as sns\n",
    "import matplotlib.pyplot as plt"
   ]
  },
  {
   "cell_type": "code",
   "execution_count": 2,
   "id": "69f8b72e-e457-4e86-94e3-91f47971f70c",
   "metadata": {},
   "outputs": [
    {
     "name": "stdout",
     "output_type": "stream",
     "text": [
      "#-------------- Readig Data -------------------#\n",
      "#-------------- Full Data Shape ------------------#\n"
     ]
    },
    {
     "data": {
      "text/plain": [
       "(145, 6)"
      ]
     },
     "execution_count": 2,
     "metadata": {},
     "output_type": "execute_result"
    }
   ],
   "source": [
    "print(\"#-------------- Readig Data -------------------#\")\n",
    "full_data = pd.read_csv(\"C:\\\\Benion\\\\Benion Programmings\\\\Python\\\\AI & ML\\\\data\\\\Exporters-of-Crude-Petroleum-2016-Click-to-Select-a-Country.csv\")\n",
    "print(\"#-------------- Full Data Shape ------------------#\")\n",
    "full_data.shape"
   ]
  },
  {
   "cell_type": "code",
   "execution_count": 3,
   "id": "6758e7c1-69d5-4e46-b46d-48309241ff5b",
   "metadata": {},
   "outputs": [
    {
     "name": "stdout",
     "output_type": "stream",
     "text": [
      "#-------------- Full Dataframe -------------------#\n"
     ]
    },
    {
     "data": {
      "text/html": [
       "<div>\n",
       "<style scoped>\n",
       "    .dataframe tbody tr th:only-of-type {\n",
       "        vertical-align: middle;\n",
       "    }\n",
       "\n",
       "    .dataframe tbody tr th {\n",
       "        vertical-align: top;\n",
       "    }\n",
       "\n",
       "    .dataframe thead th {\n",
       "        text-align: right;\n",
       "    }\n",
       "</style>\n",
       "<table border=\"1\" class=\"dataframe\">\n",
       "  <thead>\n",
       "    <tr style=\"text-align: right;\">\n",
       "      <th></th>\n",
       "      <th>Continent ID</th>\n",
       "      <th>Continent</th>\n",
       "      <th>Country ID</th>\n",
       "      <th>Country</th>\n",
       "      <th>ISO 3</th>\n",
       "      <th>Trade Value</th>\n",
       "    </tr>\n",
       "  </thead>\n",
       "  <tbody>\n",
       "    <tr>\n",
       "      <th>0</th>\n",
       "      <td>af</td>\n",
       "      <td>Africa</td>\n",
       "      <td>afago</td>\n",
       "      <td>Angola</td>\n",
       "      <td>ago</td>\n",
       "      <td>2.623916e+10</td>\n",
       "    </tr>\n",
       "    <tr>\n",
       "      <th>1</th>\n",
       "      <td>af</td>\n",
       "      <td>Africa</td>\n",
       "      <td>afbwa</td>\n",
       "      <td>Botswana</td>\n",
       "      <td>bwa</td>\n",
       "      <td>1.955900e+04</td>\n",
       "    </tr>\n",
       "    <tr>\n",
       "      <th>2</th>\n",
       "      <td>af</td>\n",
       "      <td>Africa</td>\n",
       "      <td>afcaf</td>\n",
       "      <td>Central African Republic</td>\n",
       "      <td>caf</td>\n",
       "      <td>4.629200e+04</td>\n",
       "    </tr>\n",
       "    <tr>\n",
       "      <th>3</th>\n",
       "      <td>af</td>\n",
       "      <td>Africa</td>\n",
       "      <td>afciv</td>\n",
       "      <td>Cote d'Ivoire</td>\n",
       "      <td>civ</td>\n",
       "      <td>7.646108e+08</td>\n",
       "    </tr>\n",
       "    <tr>\n",
       "      <th>4</th>\n",
       "      <td>af</td>\n",
       "      <td>Africa</td>\n",
       "      <td>afcmr</td>\n",
       "      <td>Cameroon</td>\n",
       "      <td>cmr</td>\n",
       "      <td>9.431307e+08</td>\n",
       "    </tr>\n",
       "    <tr>\n",
       "      <th>5</th>\n",
       "      <td>af</td>\n",
       "      <td>Africa</td>\n",
       "      <td>afcod</td>\n",
       "      <td>Democratic Republic of the Congo</td>\n",
       "      <td>cod</td>\n",
       "      <td>2.393252e+08</td>\n",
       "    </tr>\n",
       "    <tr>\n",
       "      <th>6</th>\n",
       "      <td>af</td>\n",
       "      <td>Africa</td>\n",
       "      <td>afcog</td>\n",
       "      <td>Republic of the Congo</td>\n",
       "      <td>cog</td>\n",
       "      <td>1.694084e+09</td>\n",
       "    </tr>\n",
       "    <tr>\n",
       "      <th>7</th>\n",
       "      <td>af</td>\n",
       "      <td>Africa</td>\n",
       "      <td>afdza</td>\n",
       "      <td>Algeria</td>\n",
       "      <td>dza</td>\n",
       "      <td>1.159125e+10</td>\n",
       "    </tr>\n",
       "    <tr>\n",
       "      <th>8</th>\n",
       "      <td>af</td>\n",
       "      <td>Africa</td>\n",
       "      <td>afegy</td>\n",
       "      <td>Egypt</td>\n",
       "      <td>egy</td>\n",
       "      <td>3.964127e+09</td>\n",
       "    </tr>\n",
       "    <tr>\n",
       "      <th>9</th>\n",
       "      <td>af</td>\n",
       "      <td>Africa</td>\n",
       "      <td>afgab</td>\n",
       "      <td>Gabon</td>\n",
       "      <td>gab</td>\n",
       "      <td>2.536819e+09</td>\n",
       "    </tr>\n",
       "  </tbody>\n",
       "</table>\n",
       "</div>"
      ],
      "text/plain": [
       "  Continent ID Continent Country ID                           Country ISO 3  \\\n",
       "0           af    Africa      afago                            Angola   ago   \n",
       "1           af    Africa      afbwa                          Botswana   bwa   \n",
       "2           af    Africa      afcaf          Central African Republic   caf   \n",
       "3           af    Africa      afciv                     Cote d'Ivoire   civ   \n",
       "4           af    Africa      afcmr                          Cameroon   cmr   \n",
       "5           af    Africa      afcod  Democratic Republic of the Congo   cod   \n",
       "6           af    Africa      afcog             Republic of the Congo   cog   \n",
       "7           af    Africa      afdza                           Algeria   dza   \n",
       "8           af    Africa      afegy                             Egypt   egy   \n",
       "9           af    Africa      afgab                             Gabon   gab   \n",
       "\n",
       "    Trade Value  \n",
       "0  2.623916e+10  \n",
       "1  1.955900e+04  \n",
       "2  4.629200e+04  \n",
       "3  7.646108e+08  \n",
       "4  9.431307e+08  \n",
       "5  2.393252e+08  \n",
       "6  1.694084e+09  \n",
       "7  1.159125e+10  \n",
       "8  3.964127e+09  \n",
       "9  2.536819e+09  "
      ]
     },
     "execution_count": 3,
     "metadata": {},
     "output_type": "execute_result"
    }
   ],
   "source": [
    "print(\"#-------------- Full Dataframe -------------------#\")\n",
    "full_data.head(10)"
   ]
  },
  {
   "cell_type": "code",
   "execution_count": 4,
   "id": "05e26980-64cc-47b0-8f10-a389866391e9",
   "metadata": {},
   "outputs": [
    {
     "name": "stdout",
     "output_type": "stream",
     "text": [
      "#-------------- Filter data for Africa only -------------------#\n",
      "#-------------- Africa Data Shape -------------------#\n"
     ]
    },
    {
     "data": {
      "text/plain": [
       "(37, 6)"
      ]
     },
     "execution_count": 4,
     "metadata": {},
     "output_type": "execute_result"
    }
   ],
   "source": [
    "print(\"#-------------- Filter data for Africa only -------------------#\")\n",
    "africa_data = full_data[full_data['Continent'] == 'Africa']\n",
    "print(\"#-------------- Africa Data Shape -------------------#\")\n",
    "africa_data.shape\n",
    "\n",
    "# Alternatively, you could also use:\n",
    "# africa_data = full_data[full_data['Continent ID'] == 'af']"
   ]
  },
  {
   "cell_type": "code",
   "execution_count": 5,
   "id": "e2110c22-afb0-4e5a-b583-4e86b7115b00",
   "metadata": {},
   "outputs": [
    {
     "name": "stdout",
     "output_type": "stream",
     "text": [
      "#-------------- Africa Dataframe -------------------#\n"
     ]
    },
    {
     "data": {
      "text/html": [
       "<div>\n",
       "<style scoped>\n",
       "    .dataframe tbody tr th:only-of-type {\n",
       "        vertical-align: middle;\n",
       "    }\n",
       "\n",
       "    .dataframe tbody tr th {\n",
       "        vertical-align: top;\n",
       "    }\n",
       "\n",
       "    .dataframe thead th {\n",
       "        text-align: right;\n",
       "    }\n",
       "</style>\n",
       "<table border=\"1\" class=\"dataframe\">\n",
       "  <thead>\n",
       "    <tr style=\"text-align: right;\">\n",
       "      <th></th>\n",
       "      <th>Continent ID</th>\n",
       "      <th>Continent</th>\n",
       "      <th>Country ID</th>\n",
       "      <th>Country</th>\n",
       "      <th>ISO 3</th>\n",
       "      <th>Trade Value</th>\n",
       "    </tr>\n",
       "  </thead>\n",
       "  <tbody>\n",
       "    <tr>\n",
       "      <th>0</th>\n",
       "      <td>af</td>\n",
       "      <td>Africa</td>\n",
       "      <td>afago</td>\n",
       "      <td>Angola</td>\n",
       "      <td>ago</td>\n",
       "      <td>2.623916e+10</td>\n",
       "    </tr>\n",
       "    <tr>\n",
       "      <th>1</th>\n",
       "      <td>af</td>\n",
       "      <td>Africa</td>\n",
       "      <td>afbwa</td>\n",
       "      <td>Botswana</td>\n",
       "      <td>bwa</td>\n",
       "      <td>1.955900e+04</td>\n",
       "    </tr>\n",
       "    <tr>\n",
       "      <th>2</th>\n",
       "      <td>af</td>\n",
       "      <td>Africa</td>\n",
       "      <td>afcaf</td>\n",
       "      <td>Central African Republic</td>\n",
       "      <td>caf</td>\n",
       "      <td>4.629200e+04</td>\n",
       "    </tr>\n",
       "    <tr>\n",
       "      <th>3</th>\n",
       "      <td>af</td>\n",
       "      <td>Africa</td>\n",
       "      <td>afciv</td>\n",
       "      <td>Cote d'Ivoire</td>\n",
       "      <td>civ</td>\n",
       "      <td>7.646108e+08</td>\n",
       "    </tr>\n",
       "    <tr>\n",
       "      <th>4</th>\n",
       "      <td>af</td>\n",
       "      <td>Africa</td>\n",
       "      <td>afcmr</td>\n",
       "      <td>Cameroon</td>\n",
       "      <td>cmr</td>\n",
       "      <td>9.431307e+08</td>\n",
       "    </tr>\n",
       "    <tr>\n",
       "      <th>5</th>\n",
       "      <td>af</td>\n",
       "      <td>Africa</td>\n",
       "      <td>afcod</td>\n",
       "      <td>Democratic Republic of the Congo</td>\n",
       "      <td>cod</td>\n",
       "      <td>2.393252e+08</td>\n",
       "    </tr>\n",
       "    <tr>\n",
       "      <th>6</th>\n",
       "      <td>af</td>\n",
       "      <td>Africa</td>\n",
       "      <td>afcog</td>\n",
       "      <td>Republic of the Congo</td>\n",
       "      <td>cog</td>\n",
       "      <td>1.694084e+09</td>\n",
       "    </tr>\n",
       "    <tr>\n",
       "      <th>7</th>\n",
       "      <td>af</td>\n",
       "      <td>Africa</td>\n",
       "      <td>afdza</td>\n",
       "      <td>Algeria</td>\n",
       "      <td>dza</td>\n",
       "      <td>1.159125e+10</td>\n",
       "    </tr>\n",
       "    <tr>\n",
       "      <th>8</th>\n",
       "      <td>af</td>\n",
       "      <td>Africa</td>\n",
       "      <td>afegy</td>\n",
       "      <td>Egypt</td>\n",
       "      <td>egy</td>\n",
       "      <td>3.964127e+09</td>\n",
       "    </tr>\n",
       "    <tr>\n",
       "      <th>9</th>\n",
       "      <td>af</td>\n",
       "      <td>Africa</td>\n",
       "      <td>afgab</td>\n",
       "      <td>Gabon</td>\n",
       "      <td>gab</td>\n",
       "      <td>2.536819e+09</td>\n",
       "    </tr>\n",
       "  </tbody>\n",
       "</table>\n",
       "</div>"
      ],
      "text/plain": [
       "  Continent ID Continent Country ID                           Country ISO 3  \\\n",
       "0           af    Africa      afago                            Angola   ago   \n",
       "1           af    Africa      afbwa                          Botswana   bwa   \n",
       "2           af    Africa      afcaf          Central African Republic   caf   \n",
       "3           af    Africa      afciv                     Cote d'Ivoire   civ   \n",
       "4           af    Africa      afcmr                          Cameroon   cmr   \n",
       "5           af    Africa      afcod  Democratic Republic of the Congo   cod   \n",
       "6           af    Africa      afcog             Republic of the Congo   cog   \n",
       "7           af    Africa      afdza                           Algeria   dza   \n",
       "8           af    Africa      afegy                             Egypt   egy   \n",
       "9           af    Africa      afgab                             Gabon   gab   \n",
       "\n",
       "    Trade Value  \n",
       "0  2.623916e+10  \n",
       "1  1.955900e+04  \n",
       "2  4.629200e+04  \n",
       "3  7.646108e+08  \n",
       "4  9.431307e+08  \n",
       "5  2.393252e+08  \n",
       "6  1.694084e+09  \n",
       "7  1.159125e+10  \n",
       "8  3.964127e+09  \n",
       "9  2.536819e+09  "
      ]
     },
     "execution_count": 5,
     "metadata": {},
     "output_type": "execute_result"
    }
   ],
   "source": [
    "print(\"#-------------- Africa Dataframe -------------------#\")\n",
    "africa_data.head(10)"
   ]
  },
  {
   "cell_type": "code",
   "execution_count": 6,
   "id": "2aab6c20-c08f-418d-b873-2d006a3a7f4a",
   "metadata": {},
   "outputs": [
    {
     "name": "stdout",
     "output_type": "stream",
     "text": [
      "#-------------- Filter data for Asia only -------------------#\n",
      "#-------------- Asia Data Shape -------------------#\n"
     ]
    },
    {
     "data": {
      "text/plain": [
       "(38, 6)"
      ]
     },
     "execution_count": 6,
     "metadata": {},
     "output_type": "execute_result"
    }
   ],
   "source": [
    "print(\"#-------------- Filter data for Asia only -------------------#\")\n",
    "asia_data = full_data[full_data['Continent'] == 'Asia']\n",
    "print(\"#-------------- Asia Data Shape -------------------#\")\n",
    "asia_data.shape\n"
   ]
  },
  {
   "cell_type": "code",
   "execution_count": 7,
   "id": "546564f1-9bfb-4ec3-a5ea-52a27460ddcb",
   "metadata": {},
   "outputs": [
    {
     "name": "stdout",
     "output_type": "stream",
     "text": [
      "#-------------- Asia Dataframe -------------------#\n"
     ]
    },
    {
     "data": {
      "text/html": [
       "<div>\n",
       "<style scoped>\n",
       "    .dataframe tbody tr th:only-of-type {\n",
       "        vertical-align: middle;\n",
       "    }\n",
       "\n",
       "    .dataframe tbody tr th {\n",
       "        vertical-align: top;\n",
       "    }\n",
       "\n",
       "    .dataframe thead th {\n",
       "        text-align: right;\n",
       "    }\n",
       "</style>\n",
       "<table border=\"1\" class=\"dataframe\">\n",
       "  <thead>\n",
       "    <tr style=\"text-align: right;\">\n",
       "      <th></th>\n",
       "      <th>Continent ID</th>\n",
       "      <th>Continent</th>\n",
       "      <th>Country ID</th>\n",
       "      <th>Country</th>\n",
       "      <th>ISO 3</th>\n",
       "      <th>Trade Value</th>\n",
       "    </tr>\n",
       "  </thead>\n",
       "  <tbody>\n",
       "    <tr>\n",
       "      <th>37</th>\n",
       "      <td>as</td>\n",
       "      <td>Asia</td>\n",
       "      <td>asare</td>\n",
       "      <td>United Arab Emirates</td>\n",
       "      <td>are</td>\n",
       "      <td>3.677330e+10</td>\n",
       "    </tr>\n",
       "    <tr>\n",
       "      <th>38</th>\n",
       "      <td>as</td>\n",
       "      <td>Asia</td>\n",
       "      <td>asaze</td>\n",
       "      <td>Azerbaijan</td>\n",
       "      <td>aze</td>\n",
       "      <td>1.060436e+10</td>\n",
       "    </tr>\n",
       "    <tr>\n",
       "      <th>39</th>\n",
       "      <td>as</td>\n",
       "      <td>Asia</td>\n",
       "      <td>asbgd</td>\n",
       "      <td>Bangladesh</td>\n",
       "      <td>bgd</td>\n",
       "      <td>5.347721e+06</td>\n",
       "    </tr>\n",
       "    <tr>\n",
       "      <th>40</th>\n",
       "      <td>as</td>\n",
       "      <td>Asia</td>\n",
       "      <td>asbhr</td>\n",
       "      <td>Bahrain</td>\n",
       "      <td>bhr</td>\n",
       "      <td>1.120000e+02</td>\n",
       "    </tr>\n",
       "    <tr>\n",
       "      <th>41</th>\n",
       "      <td>as</td>\n",
       "      <td>Asia</td>\n",
       "      <td>asbrn</td>\n",
       "      <td>Brunei</td>\n",
       "      <td>brn</td>\n",
       "      <td>1.947339e+09</td>\n",
       "    </tr>\n",
       "    <tr>\n",
       "      <th>42</th>\n",
       "      <td>as</td>\n",
       "      <td>Asia</td>\n",
       "      <td>aschn</td>\n",
       "      <td>China</td>\n",
       "      <td>chn</td>\n",
       "      <td>9.823355e+08</td>\n",
       "    </tr>\n",
       "    <tr>\n",
       "      <th>43</th>\n",
       "      <td>as</td>\n",
       "      <td>Asia</td>\n",
       "      <td>ascyp</td>\n",
       "      <td>Cyprus</td>\n",
       "      <td>cyp</td>\n",
       "      <td>4.000000e+00</td>\n",
       "    </tr>\n",
       "    <tr>\n",
       "      <th>44</th>\n",
       "      <td>as</td>\n",
       "      <td>Asia</td>\n",
       "      <td>asgeo</td>\n",
       "      <td>Georgia</td>\n",
       "      <td>geo</td>\n",
       "      <td>3.211376e+07</td>\n",
       "    </tr>\n",
       "    <tr>\n",
       "      <th>45</th>\n",
       "      <td>as</td>\n",
       "      <td>Asia</td>\n",
       "      <td>ashkg</td>\n",
       "      <td>Hong Kong</td>\n",
       "      <td>hkg</td>\n",
       "      <td>8.656000e+03</td>\n",
       "    </tr>\n",
       "    <tr>\n",
       "      <th>46</th>\n",
       "      <td>as</td>\n",
       "      <td>Asia</td>\n",
       "      <td>asidn</td>\n",
       "      <td>Indonesia</td>\n",
       "      <td>idn</td>\n",
       "      <td>5.441193e+09</td>\n",
       "    </tr>\n",
       "  </tbody>\n",
       "</table>\n",
       "</div>"
      ],
      "text/plain": [
       "   Continent ID Continent Country ID               Country ISO 3   Trade Value\n",
       "37           as      Asia      asare  United Arab Emirates   are  3.677330e+10\n",
       "38           as      Asia      asaze            Azerbaijan   aze  1.060436e+10\n",
       "39           as      Asia      asbgd            Bangladesh   bgd  5.347721e+06\n",
       "40           as      Asia      asbhr               Bahrain   bhr  1.120000e+02\n",
       "41           as      Asia      asbrn                Brunei   brn  1.947339e+09\n",
       "42           as      Asia      aschn                 China   chn  9.823355e+08\n",
       "43           as      Asia      ascyp                Cyprus   cyp  4.000000e+00\n",
       "44           as      Asia      asgeo               Georgia   geo  3.211376e+07\n",
       "45           as      Asia      ashkg             Hong Kong   hkg  8.656000e+03\n",
       "46           as      Asia      asidn             Indonesia   idn  5.441193e+09"
      ]
     },
     "execution_count": 7,
     "metadata": {},
     "output_type": "execute_result"
    }
   ],
   "source": [
    "print(\"#-------------- Asia Dataframe -------------------#\")\n",
    "asia_data.head(10)"
   ]
  },
  {
   "cell_type": "code",
   "execution_count": 8,
   "id": "3b283614-aeb5-4609-8611-601a2071dae2",
   "metadata": {},
   "outputs": [
    {
     "name": "stdout",
     "output_type": "stream",
     "text": [
      "#-------------- Filter data for Europe only -------------------#\n",
      "#-------------- Europe Data Shape -------------------#\n"
     ]
    },
    {
     "data": {
      "text/plain": [
       "(37, 6)"
      ]
     },
     "execution_count": 8,
     "metadata": {},
     "output_type": "execute_result"
    }
   ],
   "source": [
    "print(\"#-------------- Filter data for Europe only -------------------#\")\n",
    "europe_data = full_data[full_data['Continent'] == 'Europe']\n",
    "print(\"#-------------- Europe Data Shape -------------------#\")\n",
    "europe_data.shape"
   ]
  },
  {
   "cell_type": "code",
   "execution_count": 9,
   "id": "7c56f1bd-4ec6-411a-be32-be2b253bc40a",
   "metadata": {},
   "outputs": [
    {
     "name": "stdout",
     "output_type": "stream",
     "text": [
      "#-------------- Europe Dataframe -------------------#\n"
     ]
    },
    {
     "data": {
      "text/html": [
       "<div>\n",
       "<style scoped>\n",
       "    .dataframe tbody tr th:only-of-type {\n",
       "        vertical-align: middle;\n",
       "    }\n",
       "\n",
       "    .dataframe tbody tr th {\n",
       "        vertical-align: top;\n",
       "    }\n",
       "\n",
       "    .dataframe thead th {\n",
       "        text-align: right;\n",
       "    }\n",
       "</style>\n",
       "<table border=\"1\" class=\"dataframe\">\n",
       "  <thead>\n",
       "    <tr style=\"text-align: right;\">\n",
       "      <th></th>\n",
       "      <th>Continent ID</th>\n",
       "      <th>Continent</th>\n",
       "      <th>Country ID</th>\n",
       "      <th>Country</th>\n",
       "      <th>ISO 3</th>\n",
       "      <th>Trade Value</th>\n",
       "    </tr>\n",
       "  </thead>\n",
       "  <tbody>\n",
       "    <tr>\n",
       "      <th>75</th>\n",
       "      <td>eu</td>\n",
       "      <td>Europe</td>\n",
       "      <td>eualb</td>\n",
       "      <td>Albania</td>\n",
       "      <td>alb</td>\n",
       "      <td>245507117.0</td>\n",
       "    </tr>\n",
       "    <tr>\n",
       "      <th>76</th>\n",
       "      <td>eu</td>\n",
       "      <td>Europe</td>\n",
       "      <td>euand</td>\n",
       "      <td>Andorra</td>\n",
       "      <td>and</td>\n",
       "      <td>779.0</td>\n",
       "    </tr>\n",
       "    <tr>\n",
       "      <th>77</th>\n",
       "      <td>eu</td>\n",
       "      <td>Europe</td>\n",
       "      <td>euaut</td>\n",
       "      <td>Austria</td>\n",
       "      <td>aut</td>\n",
       "      <td>7193.0</td>\n",
       "    </tr>\n",
       "    <tr>\n",
       "      <th>78</th>\n",
       "      <td>eu</td>\n",
       "      <td>Europe</td>\n",
       "      <td>eubel</td>\n",
       "      <td>Belgium</td>\n",
       "      <td>bel</td>\n",
       "      <td>229994034.0</td>\n",
       "    </tr>\n",
       "    <tr>\n",
       "      <th>79</th>\n",
       "      <td>eu</td>\n",
       "      <td>Europe</td>\n",
       "      <td>eubgr</td>\n",
       "      <td>Bulgaria</td>\n",
       "      <td>bgr</td>\n",
       "      <td>215880.0</td>\n",
       "    </tr>\n",
       "    <tr>\n",
       "      <th>80</th>\n",
       "      <td>eu</td>\n",
       "      <td>Europe</td>\n",
       "      <td>eubih</td>\n",
       "      <td>Bosnia and Herzegovina</td>\n",
       "      <td>bih</td>\n",
       "      <td>20.0</td>\n",
       "    </tr>\n",
       "    <tr>\n",
       "      <th>81</th>\n",
       "      <td>eu</td>\n",
       "      <td>Europe</td>\n",
       "      <td>eublr</td>\n",
       "      <td>Belarus</td>\n",
       "      <td>blr</td>\n",
       "      <td>471625100.0</td>\n",
       "    </tr>\n",
       "    <tr>\n",
       "      <th>82</th>\n",
       "      <td>eu</td>\n",
       "      <td>Europe</td>\n",
       "      <td>euche</td>\n",
       "      <td>Switzerland</td>\n",
       "      <td>che</td>\n",
       "      <td>503978477.0</td>\n",
       "    </tr>\n",
       "    <tr>\n",
       "      <th>83</th>\n",
       "      <td>eu</td>\n",
       "      <td>Europe</td>\n",
       "      <td>eucze</td>\n",
       "      <td>Czechia</td>\n",
       "      <td>cze</td>\n",
       "      <td>8469490.0</td>\n",
       "    </tr>\n",
       "    <tr>\n",
       "      <th>84</th>\n",
       "      <td>eu</td>\n",
       "      <td>Europe</td>\n",
       "      <td>eudeu</td>\n",
       "      <td>Germany</td>\n",
       "      <td>deu</td>\n",
       "      <td>20914072.0</td>\n",
       "    </tr>\n",
       "  </tbody>\n",
       "</table>\n",
       "</div>"
      ],
      "text/plain": [
       "   Continent ID Continent Country ID                 Country ISO 3  \\\n",
       "75           eu    Europe      eualb                 Albania   alb   \n",
       "76           eu    Europe      euand                 Andorra   and   \n",
       "77           eu    Europe      euaut                 Austria   aut   \n",
       "78           eu    Europe      eubel                 Belgium   bel   \n",
       "79           eu    Europe      eubgr                Bulgaria   bgr   \n",
       "80           eu    Europe      eubih  Bosnia and Herzegovina   bih   \n",
       "81           eu    Europe      eublr                 Belarus   blr   \n",
       "82           eu    Europe      euche             Switzerland   che   \n",
       "83           eu    Europe      eucze                 Czechia   cze   \n",
       "84           eu    Europe      eudeu                 Germany   deu   \n",
       "\n",
       "    Trade Value  \n",
       "75  245507117.0  \n",
       "76        779.0  \n",
       "77       7193.0  \n",
       "78  229994034.0  \n",
       "79     215880.0  \n",
       "80         20.0  \n",
       "81  471625100.0  \n",
       "82  503978477.0  \n",
       "83    8469490.0  \n",
       "84   20914072.0  "
      ]
     },
     "execution_count": 9,
     "metadata": {},
     "output_type": "execute_result"
    }
   ],
   "source": [
    "print(\"#-------------- Europe Dataframe -------------------#\")\n",
    "europe_data.head(10)"
   ]
  },
  {
   "cell_type": "code",
   "execution_count": 10,
   "id": "c1066e8a-9a1e-4bf6-a041-df94b66a8f75",
   "metadata": {},
   "outputs": [
    {
     "name": "stdout",
     "output_type": "stream",
     "text": [
      "#-------------- Filter data for North America only -------------------#\n",
      "#-------------- North America Data Shape -------------------#\n"
     ]
    },
    {
     "data": {
      "text/plain": [
       "(17, 6)"
      ]
     },
     "execution_count": 10,
     "metadata": {},
     "output_type": "execute_result"
    }
   ],
   "source": [
    "print(\"#-------------- Filter data for North America only -------------------#\")\n",
    "north_america_data = full_data[full_data['Continent'] == 'North America']\n",
    "print(\"#-------------- North America Data Shape -------------------#\")\n",
    "north_america_data.shape"
   ]
  },
  {
   "cell_type": "code",
   "execution_count": 11,
   "id": "b3888883-7048-44d8-9baa-b5c6b68c164d",
   "metadata": {},
   "outputs": [
    {
     "name": "stdout",
     "output_type": "stream",
     "text": [
      "#-------------- North America Dataframe -------------------#\n"
     ]
    },
    {
     "data": {
      "text/html": [
       "<div>\n",
       "<style scoped>\n",
       "    .dataframe tbody tr th:only-of-type {\n",
       "        vertical-align: middle;\n",
       "    }\n",
       "\n",
       "    .dataframe tbody tr th {\n",
       "        vertical-align: top;\n",
       "    }\n",
       "\n",
       "    .dataframe thead th {\n",
       "        text-align: right;\n",
       "    }\n",
       "</style>\n",
       "<table border=\"1\" class=\"dataframe\">\n",
       "  <thead>\n",
       "    <tr style=\"text-align: right;\">\n",
       "      <th></th>\n",
       "      <th>Continent ID</th>\n",
       "      <th>Continent</th>\n",
       "      <th>Country ID</th>\n",
       "      <th>Country</th>\n",
       "      <th>ISO 3</th>\n",
       "      <th>Trade Value</th>\n",
       "    </tr>\n",
       "  </thead>\n",
       "  <tbody>\n",
       "    <tr>\n",
       "      <th>112</th>\n",
       "      <td>na</td>\n",
       "      <td>North America</td>\n",
       "      <td>naabw</td>\n",
       "      <td>Aruba</td>\n",
       "      <td>abw</td>\n",
       "      <td>1.257500e+06</td>\n",
       "    </tr>\n",
       "    <tr>\n",
       "      <th>113</th>\n",
       "      <td>na</td>\n",
       "      <td>North America</td>\n",
       "      <td>nabhs</td>\n",
       "      <td>Bahamas</td>\n",
       "      <td>bhs</td>\n",
       "      <td>1.079610e+08</td>\n",
       "    </tr>\n",
       "    <tr>\n",
       "      <th>114</th>\n",
       "      <td>na</td>\n",
       "      <td>North America</td>\n",
       "      <td>nablz</td>\n",
       "      <td>Belize</td>\n",
       "      <td>blz</td>\n",
       "      <td>1.124153e+07</td>\n",
       "    </tr>\n",
       "    <tr>\n",
       "      <th>115</th>\n",
       "      <td>na</td>\n",
       "      <td>North America</td>\n",
       "      <td>nabrb</td>\n",
       "      <td>Barbados</td>\n",
       "      <td>brb</td>\n",
       "      <td>8.870732e+06</td>\n",
       "    </tr>\n",
       "    <tr>\n",
       "      <th>116</th>\n",
       "      <td>na</td>\n",
       "      <td>North America</td>\n",
       "      <td>nacan</td>\n",
       "      <td>Canada</td>\n",
       "      <td>can</td>\n",
       "      <td>3.924129e+10</td>\n",
       "    </tr>\n",
       "    <tr>\n",
       "      <th>117</th>\n",
       "      <td>na</td>\n",
       "      <td>North America</td>\n",
       "      <td>nacri</td>\n",
       "      <td>Costa Rica</td>\n",
       "      <td>cri</td>\n",
       "      <td>2.831000e+03</td>\n",
       "    </tr>\n",
       "    <tr>\n",
       "      <th>118</th>\n",
       "      <td>na</td>\n",
       "      <td>North America</td>\n",
       "      <td>nacub</td>\n",
       "      <td>Cuba</td>\n",
       "      <td>cub</td>\n",
       "      <td>1.219000e+03</td>\n",
       "    </tr>\n",
       "    <tr>\n",
       "      <th>119</th>\n",
       "      <td>na</td>\n",
       "      <td>North America</td>\n",
       "      <td>nacuw</td>\n",
       "      <td>Curacao</td>\n",
       "      <td>cuw</td>\n",
       "      <td>1.010599e+08</td>\n",
       "    </tr>\n",
       "    <tr>\n",
       "      <th>120</th>\n",
       "      <td>na</td>\n",
       "      <td>North America</td>\n",
       "      <td>nadom</td>\n",
       "      <td>Dominican Republic</td>\n",
       "      <td>dom</td>\n",
       "      <td>3.700000e+01</td>\n",
       "    </tr>\n",
       "    <tr>\n",
       "      <th>121</th>\n",
       "      <td>na</td>\n",
       "      <td>North America</td>\n",
       "      <td>nagtm</td>\n",
       "      <td>Guatemala</td>\n",
       "      <td>gtm</td>\n",
       "      <td>8.387616e+07</td>\n",
       "    </tr>\n",
       "  </tbody>\n",
       "</table>\n",
       "</div>"
      ],
      "text/plain": [
       "    Continent ID      Continent Country ID             Country ISO 3  \\\n",
       "112           na  North America      naabw               Aruba   abw   \n",
       "113           na  North America      nabhs             Bahamas   bhs   \n",
       "114           na  North America      nablz              Belize   blz   \n",
       "115           na  North America      nabrb            Barbados   brb   \n",
       "116           na  North America      nacan              Canada   can   \n",
       "117           na  North America      nacri          Costa Rica   cri   \n",
       "118           na  North America      nacub                Cuba   cub   \n",
       "119           na  North America      nacuw             Curacao   cuw   \n",
       "120           na  North America      nadom  Dominican Republic   dom   \n",
       "121           na  North America      nagtm           Guatemala   gtm   \n",
       "\n",
       "      Trade Value  \n",
       "112  1.257500e+06  \n",
       "113  1.079610e+08  \n",
       "114  1.124153e+07  \n",
       "115  8.870732e+06  \n",
       "116  3.924129e+10  \n",
       "117  2.831000e+03  \n",
       "118  1.219000e+03  \n",
       "119  1.010599e+08  \n",
       "120  3.700000e+01  \n",
       "121  8.387616e+07  "
      ]
     },
     "execution_count": 11,
     "metadata": {},
     "output_type": "execute_result"
    }
   ],
   "source": [
    "print(\"#-------------- North America Dataframe -------------------#\")\n",
    "north_america_data.head(10)"
   ]
  },
  {
   "cell_type": "code",
   "execution_count": 12,
   "id": "61f4694a-79cb-4cb4-84e4-8a107a1f6a3d",
   "metadata": {},
   "outputs": [
    {
     "name": "stdout",
     "output_type": "stream",
     "text": [
      "#-------------- Filter data for Oceania only -------------------#\n",
      "#-------------- Oceania Data Shape -------------------#\n"
     ]
    },
    {
     "data": {
      "text/plain": [
       "(7, 6)"
      ]
     },
     "execution_count": 12,
     "metadata": {},
     "output_type": "execute_result"
    }
   ],
   "source": [
    "print(\"#-------------- Filter data for Oceania only -------------------#\")\n",
    "oceania_data = full_data[full_data['Continent'] == 'Oceania']\n",
    "print(\"#-------------- Oceania Data Shape -------------------#\")\n",
    "oceania_data.shape"
   ]
  },
  {
   "cell_type": "code",
   "execution_count": 13,
   "id": "1be18515-99bb-4f14-b28e-05acf1b3582f",
   "metadata": {},
   "outputs": [
    {
     "name": "stdout",
     "output_type": "stream",
     "text": [
      "#-------------- Oceania Dataframe -------------------#\n"
     ]
    },
    {
     "data": {
      "text/html": [
       "<div>\n",
       "<style scoped>\n",
       "    .dataframe tbody tr th:only-of-type {\n",
       "        vertical-align: middle;\n",
       "    }\n",
       "\n",
       "    .dataframe tbody tr th {\n",
       "        vertical-align: top;\n",
       "    }\n",
       "\n",
       "    .dataframe thead th {\n",
       "        text-align: right;\n",
       "    }\n",
       "</style>\n",
       "<table border=\"1\" class=\"dataframe\">\n",
       "  <thead>\n",
       "    <tr style=\"text-align: right;\">\n",
       "      <th></th>\n",
       "      <th>Continent ID</th>\n",
       "      <th>Continent</th>\n",
       "      <th>Country ID</th>\n",
       "      <th>Country</th>\n",
       "      <th>ISO 3</th>\n",
       "      <th>Trade Value</th>\n",
       "    </tr>\n",
       "  </thead>\n",
       "  <tbody>\n",
       "    <tr>\n",
       "      <th>129</th>\n",
       "      <td>oc</td>\n",
       "      <td>Oceania</td>\n",
       "      <td>ocaus</td>\n",
       "      <td>Australia</td>\n",
       "      <td>aus</td>\n",
       "      <td>3.777993e+09</td>\n",
       "    </tr>\n",
       "    <tr>\n",
       "      <th>130</th>\n",
       "      <td>oc</td>\n",
       "      <td>Oceania</td>\n",
       "      <td>ocfji</td>\n",
       "      <td>Fiji</td>\n",
       "      <td>fji</td>\n",
       "      <td>3.171000e+03</td>\n",
       "    </tr>\n",
       "    <tr>\n",
       "      <th>131</th>\n",
       "      <td>oc</td>\n",
       "      <td>Oceania</td>\n",
       "      <td>ocgum</td>\n",
       "      <td>Guam</td>\n",
       "      <td>gum</td>\n",
       "      <td>3.000000e+00</td>\n",
       "    </tr>\n",
       "    <tr>\n",
       "      <th>132</th>\n",
       "      <td>oc</td>\n",
       "      <td>Oceania</td>\n",
       "      <td>ocnzl</td>\n",
       "      <td>New Zealand</td>\n",
       "      <td>nzl</td>\n",
       "      <td>4.591384e+08</td>\n",
       "    </tr>\n",
       "    <tr>\n",
       "      <th>133</th>\n",
       "      <td>oc</td>\n",
       "      <td>Oceania</td>\n",
       "      <td>ocpng</td>\n",
       "      <td>Papua New Guinea</td>\n",
       "      <td>png</td>\n",
       "      <td>5.924761e+08</td>\n",
       "    </tr>\n",
       "    <tr>\n",
       "      <th>134</th>\n",
       "      <td>oc</td>\n",
       "      <td>Oceania</td>\n",
       "      <td>ocslb</td>\n",
       "      <td>Solomon Islands</td>\n",
       "      <td>slb</td>\n",
       "      <td>4.582200e+04</td>\n",
       "    </tr>\n",
       "    <tr>\n",
       "      <th>135</th>\n",
       "      <td>oc</td>\n",
       "      <td>Oceania</td>\n",
       "      <td>ocwsm</td>\n",
       "      <td>Samoa</td>\n",
       "      <td>wsm</td>\n",
       "      <td>1.247000e+03</td>\n",
       "    </tr>\n",
       "  </tbody>\n",
       "</table>\n",
       "</div>"
      ],
      "text/plain": [
       "    Continent ID Continent Country ID           Country ISO 3   Trade Value\n",
       "129           oc   Oceania      ocaus         Australia   aus  3.777993e+09\n",
       "130           oc   Oceania      ocfji              Fiji   fji  3.171000e+03\n",
       "131           oc   Oceania      ocgum              Guam   gum  3.000000e+00\n",
       "132           oc   Oceania      ocnzl       New Zealand   nzl  4.591384e+08\n",
       "133           oc   Oceania      ocpng  Papua New Guinea   png  5.924761e+08\n",
       "134           oc   Oceania      ocslb   Solomon Islands   slb  4.582200e+04\n",
       "135           oc   Oceania      ocwsm             Samoa   wsm  1.247000e+03"
      ]
     },
     "execution_count": 13,
     "metadata": {},
     "output_type": "execute_result"
    }
   ],
   "source": [
    "print(\"#-------------- Oceania Dataframe -------------------#\")\n",
    "oceania_data.head(10)"
   ]
  },
  {
   "cell_type": "code",
   "execution_count": 14,
   "id": "cae673c4-d418-4b0f-acb3-db5843d65bab",
   "metadata": {},
   "outputs": [
    {
     "name": "stdout",
     "output_type": "stream",
     "text": [
      "#-------------- Filter data for South America only -------------------#\n",
      "#-------------- South America Data Shape -------------------#\n"
     ]
    },
    {
     "data": {
      "text/plain": [
       "(9, 6)"
      ]
     },
     "execution_count": 14,
     "metadata": {},
     "output_type": "execute_result"
    }
   ],
   "source": [
    "print(\"#-------------- Filter data for South America only -------------------#\")\n",
    "south_america_data = full_data[full_data['Continent'] == 'South America']\n",
    "print(\"#-------------- South America Data Shape -------------------#\")\n",
    "south_america_data.shape"
   ]
  },
  {
   "cell_type": "code",
   "execution_count": 15,
   "id": "a9b13191-2b34-4cfa-8c75-fe763c205596",
   "metadata": {},
   "outputs": [
    {
     "name": "stdout",
     "output_type": "stream",
     "text": [
      "#-------------- South America Dataframe -------------------#\n"
     ]
    },
    {
     "data": {
      "text/html": [
       "<div>\n",
       "<style scoped>\n",
       "    .dataframe tbody tr th:only-of-type {\n",
       "        vertical-align: middle;\n",
       "    }\n",
       "\n",
       "    .dataframe tbody tr th {\n",
       "        vertical-align: top;\n",
       "    }\n",
       "\n",
       "    .dataframe thead th {\n",
       "        text-align: right;\n",
       "    }\n",
       "</style>\n",
       "<table border=\"1\" class=\"dataframe\">\n",
       "  <thead>\n",
       "    <tr style=\"text-align: right;\">\n",
       "      <th></th>\n",
       "      <th>Continent ID</th>\n",
       "      <th>Continent</th>\n",
       "      <th>Country ID</th>\n",
       "      <th>Country</th>\n",
       "      <th>ISO 3</th>\n",
       "      <th>Trade Value</th>\n",
       "    </tr>\n",
       "  </thead>\n",
       "  <tbody>\n",
       "    <tr>\n",
       "      <th>136</th>\n",
       "      <td>sa</td>\n",
       "      <td>South America</td>\n",
       "      <td>saarg</td>\n",
       "      <td>Argentina</td>\n",
       "      <td>arg</td>\n",
       "      <td>7.667663e+08</td>\n",
       "    </tr>\n",
       "    <tr>\n",
       "      <th>137</th>\n",
       "      <td>sa</td>\n",
       "      <td>South America</td>\n",
       "      <td>sabol</td>\n",
       "      <td>Bolivia</td>\n",
       "      <td>bol</td>\n",
       "      <td>8.444496e+07</td>\n",
       "    </tr>\n",
       "    <tr>\n",
       "      <th>138</th>\n",
       "      <td>sa</td>\n",
       "      <td>South America</td>\n",
       "      <td>sabra</td>\n",
       "      <td>Brazil</td>\n",
       "      <td>bra</td>\n",
       "      <td>1.124334e+10</td>\n",
       "    </tr>\n",
       "    <tr>\n",
       "      <th>139</th>\n",
       "      <td>sa</td>\n",
       "      <td>South America</td>\n",
       "      <td>sachl</td>\n",
       "      <td>Chile</td>\n",
       "      <td>chl</td>\n",
       "      <td>6.447430e+06</td>\n",
       "    </tr>\n",
       "    <tr>\n",
       "      <th>140</th>\n",
       "      <td>sa</td>\n",
       "      <td>South America</td>\n",
       "      <td>sacol</td>\n",
       "      <td>Colombia</td>\n",
       "      <td>col</td>\n",
       "      <td>8.146821e+09</td>\n",
       "    </tr>\n",
       "    <tr>\n",
       "      <th>141</th>\n",
       "      <td>sa</td>\n",
       "      <td>South America</td>\n",
       "      <td>saecu</td>\n",
       "      <td>Ecuador</td>\n",
       "      <td>ecu</td>\n",
       "      <td>5.156956e+09</td>\n",
       "    </tr>\n",
       "    <tr>\n",
       "      <th>142</th>\n",
       "      <td>sa</td>\n",
       "      <td>South America</td>\n",
       "      <td>saper</td>\n",
       "      <td>Peru</td>\n",
       "      <td>per</td>\n",
       "      <td>4.507911e+07</td>\n",
       "    </tr>\n",
       "    <tr>\n",
       "      <th>143</th>\n",
       "      <td>sa</td>\n",
       "      <td>South America</td>\n",
       "      <td>saury</td>\n",
       "      <td>Uruguay</td>\n",
       "      <td>ury</td>\n",
       "      <td>1.200000e+01</td>\n",
       "    </tr>\n",
       "    <tr>\n",
       "      <th>144</th>\n",
       "      <td>sa</td>\n",
       "      <td>South America</td>\n",
       "      <td>saven</td>\n",
       "      <td>Venezuela</td>\n",
       "      <td>ven</td>\n",
       "      <td>1.849616e+10</td>\n",
       "    </tr>\n",
       "  </tbody>\n",
       "</table>\n",
       "</div>"
      ],
      "text/plain": [
       "    Continent ID      Continent Country ID    Country ISO 3   Trade Value\n",
       "136           sa  South America      saarg  Argentina   arg  7.667663e+08\n",
       "137           sa  South America      sabol    Bolivia   bol  8.444496e+07\n",
       "138           sa  South America      sabra     Brazil   bra  1.124334e+10\n",
       "139           sa  South America      sachl      Chile   chl  6.447430e+06\n",
       "140           sa  South America      sacol   Colombia   col  8.146821e+09\n",
       "141           sa  South America      saecu    Ecuador   ecu  5.156956e+09\n",
       "142           sa  South America      saper       Peru   per  4.507911e+07\n",
       "143           sa  South America      saury    Uruguay   ury  1.200000e+01\n",
       "144           sa  South America      saven  Venezuela   ven  1.849616e+10"
      ]
     },
     "execution_count": 15,
     "metadata": {},
     "output_type": "execute_result"
    }
   ],
   "source": [
    "print(\"#-------------- South America Dataframe -------------------#\")\n",
    "south_america_data.head(10)"
   ]
  },
  {
   "cell_type": "code",
   "execution_count": 16,
   "id": "b6319bc6-37ce-4c0c-b4e2-e690195fef9a",
   "metadata": {},
   "outputs": [
    {
     "name": "stdout",
     "output_type": "stream",
     "text": [
      "#-------------- Key Statistics for 'Trade Value' in Africa -------------------#\n"
     ]
    },
    {
     "data": {
      "text/html": [
       "<div>\n",
       "<style scoped>\n",
       "    .dataframe tbody tr th:only-of-type {\n",
       "        vertical-align: middle;\n",
       "    }\n",
       "\n",
       "    .dataframe tbody tr th {\n",
       "        vertical-align: top;\n",
       "    }\n",
       "\n",
       "    .dataframe thead th {\n",
       "        text-align: right;\n",
       "    }\n",
       "</style>\n",
       "<table border=\"1\" class=\"dataframe\">\n",
       "  <thead>\n",
       "    <tr style=\"text-align: right;\">\n",
       "      <th></th>\n",
       "      <th>count</th>\n",
       "      <th>mean</th>\n",
       "      <th>std</th>\n",
       "      <th>min</th>\n",
       "      <th>25%</th>\n",
       "      <th>50%</th>\n",
       "      <th>75%</th>\n",
       "      <th>max</th>\n",
       "      <th>Range</th>\n",
       "      <th>Variance</th>\n",
       "    </tr>\n",
       "  </thead>\n",
       "  <tbody>\n",
       "    <tr>\n",
       "      <th>Trade Value</th>\n",
       "      <td>37.0</td>\n",
       "      <td>2.676905e+09</td>\n",
       "      <td>6.655601e+09</td>\n",
       "      <td>66.0</td>\n",
       "      <td>37901.0</td>\n",
       "      <td>88521993.0</td>\n",
       "      <td>1.264327e+09</td>\n",
       "      <td>2.761690e+10</td>\n",
       "      <td>2.761690e+10</td>\n",
       "      <td>4.429703e+19</td>\n",
       "    </tr>\n",
       "  </tbody>\n",
       "</table>\n",
       "</div>"
      ],
      "text/plain": [
       "             count          mean           std   min      25%         50%  \\\n",
       "Trade Value   37.0  2.676905e+09  6.655601e+09  66.0  37901.0  88521993.0   \n",
       "\n",
       "                      75%           max         Range      Variance  \n",
       "Trade Value  1.264327e+09  2.761690e+10  2.761690e+10  4.429703e+19  "
      ]
     },
     "execution_count": 16,
     "metadata": {},
     "output_type": "execute_result"
    }
   ],
   "source": [
    "print(\"#-------------- Key Statistics for 'Trade Value' in Africa -------------------#\")\n",
    "africa_trade_stats = africa_data['Trade Value'].describe().to_frame().T\n",
    "africa_trade_stats['Range'] = africa_trade_stats['max'] - africa_trade_stats['min']\n",
    "africa_trade_stats['Variance'] = africa_data['Trade Value'].var()\n",
    "\n",
    "africa_trade_stats[['count', 'mean', 'std', 'min', '25%', '50%', '75%', 'max', 'Range', 'Variance']]"
   ]
  },
  {
   "cell_type": "code",
   "execution_count": 17,
   "id": "80c29272-a34f-40b8-84e8-ee8407761266",
   "metadata": {},
   "outputs": [
    {
     "name": "stdout",
     "output_type": "stream",
     "text": [
      "#-------------- Key Statistics for 'Trade Value' in Asia -------------------#\n"
     ]
    },
    {
     "data": {
      "text/html": [
       "<div>\n",
       "<style scoped>\n",
       "    .dataframe tbody tr th:only-of-type {\n",
       "        vertical-align: middle;\n",
       "    }\n",
       "\n",
       "    .dataframe tbody tr th {\n",
       "        vertical-align: top;\n",
       "    }\n",
       "\n",
       "    .dataframe thead th {\n",
       "        text-align: right;\n",
       "    }\n",
       "</style>\n",
       "<table border=\"1\" class=\"dataframe\">\n",
       "  <thead>\n",
       "    <tr style=\"text-align: right;\">\n",
       "      <th></th>\n",
       "      <th>count</th>\n",
       "      <th>mean</th>\n",
       "      <th>std</th>\n",
       "      <th>min</th>\n",
       "      <th>25%</th>\n",
       "      <th>50%</th>\n",
       "      <th>75%</th>\n",
       "      <th>max</th>\n",
       "      <th>Range</th>\n",
       "      <th>Variance</th>\n",
       "    </tr>\n",
       "  </thead>\n",
       "  <tbody>\n",
       "    <tr>\n",
       "      <th>Trade Value</th>\n",
       "      <td>38.0</td>\n",
       "      <td>9.116962e+09</td>\n",
       "      <td>2.256798e+10</td>\n",
       "      <td>4.0</td>\n",
       "      <td>3478190.75</td>\n",
       "      <td>297777865.0</td>\n",
       "      <td>6.087088e+09</td>\n",
       "      <td>1.250000e+11</td>\n",
       "      <td>1.250000e+11</td>\n",
       "      <td>5.093136e+20</td>\n",
       "    </tr>\n",
       "  </tbody>\n",
       "</table>\n",
       "</div>"
      ],
      "text/plain": [
       "             count          mean           std  min         25%          50%  \\\n",
       "Trade Value   38.0  9.116962e+09  2.256798e+10  4.0  3478190.75  297777865.0   \n",
       "\n",
       "                      75%           max         Range      Variance  \n",
       "Trade Value  6.087088e+09  1.250000e+11  1.250000e+11  5.093136e+20  "
      ]
     },
     "execution_count": 17,
     "metadata": {},
     "output_type": "execute_result"
    }
   ],
   "source": [
    "print(\"#-------------- Key Statistics for 'Trade Value' in Asia -------------------#\")\n",
    "asia_trade_stats = asia_data['Trade Value'].describe().to_frame().T\n",
    "asia_trade_stats['Range'] = asia_trade_stats['max'] - asia_trade_stats['min']\n",
    "asia_trade_stats['Variance'] = asia_data['Trade Value'].var()\n",
    "\n",
    "asia_trade_stats[['count', 'mean', 'std', 'min', '25%', '50%', '75%', 'max', 'Range', 'Variance']]"
   ]
  },
  {
   "cell_type": "code",
   "execution_count": 18,
   "id": "5d91c345-2b8a-44c4-a0df-e4bb68117662",
   "metadata": {},
   "outputs": [
    {
     "name": "stdout",
     "output_type": "stream",
     "text": [
      "#-------------- Key Statistics for 'Trade Value' in Europe -------------------#\n"
     ]
    },
    {
     "data": {
      "text/html": [
       "<div>\n",
       "<style scoped>\n",
       "    .dataframe tbody tr th:only-of-type {\n",
       "        vertical-align: middle;\n",
       "    }\n",
       "\n",
       "    .dataframe tbody tr th {\n",
       "        vertical-align: top;\n",
       "    }\n",
       "\n",
       "    .dataframe thead th {\n",
       "        text-align: right;\n",
       "    }\n",
       "</style>\n",
       "<table border=\"1\" class=\"dataframe\">\n",
       "  <thead>\n",
       "    <tr style=\"text-align: right;\">\n",
       "      <th></th>\n",
       "      <th>count</th>\n",
       "      <th>mean</th>\n",
       "      <th>std</th>\n",
       "      <th>min</th>\n",
       "      <th>25%</th>\n",
       "      <th>50%</th>\n",
       "      <th>75%</th>\n",
       "      <th>max</th>\n",
       "      <th>Range</th>\n",
       "      <th>Variance</th>\n",
       "    </tr>\n",
       "  </thead>\n",
       "  <tbody>\n",
       "    <tr>\n",
       "      <th>Trade Value</th>\n",
       "      <td>37.0</td>\n",
       "      <td>3.268712e+09</td>\n",
       "      <td>1.296895e+10</td>\n",
       "      <td>20.0</td>\n",
       "      <td>166306.0</td>\n",
       "      <td>11071060.0</td>\n",
       "      <td>245507117.0</td>\n",
       "      <td>7.556449e+10</td>\n",
       "      <td>7.556449e+10</td>\n",
       "      <td>1.681937e+20</td>\n",
       "    </tr>\n",
       "  </tbody>\n",
       "</table>\n",
       "</div>"
      ],
      "text/plain": [
       "             count          mean           std   min       25%         50%  \\\n",
       "Trade Value   37.0  3.268712e+09  1.296895e+10  20.0  166306.0  11071060.0   \n",
       "\n",
       "                     75%           max         Range      Variance  \n",
       "Trade Value  245507117.0  7.556449e+10  7.556449e+10  1.681937e+20  "
      ]
     },
     "execution_count": 18,
     "metadata": {},
     "output_type": "execute_result"
    }
   ],
   "source": [
    "print(\"#-------------- Key Statistics for 'Trade Value' in Europe -------------------#\")\n",
    "europe_trade_stats = europe_data['Trade Value'].describe().to_frame().T\n",
    "europe_trade_stats['Range'] = europe_trade_stats['max'] - europe_trade_stats['min']\n",
    "europe_trade_stats['Variance'] = europe_data['Trade Value'].var()\n",
    "\n",
    "europe_trade_stats[['count', 'mean', 'std', 'min', '25%', '50%', '75%', 'max', 'Range', 'Variance']]"
   ]
  },
  {
   "cell_type": "code",
   "execution_count": 19,
   "id": "01f1215d-23a1-4dff-989b-da86ca137b4f",
   "metadata": {},
   "outputs": [
    {
     "name": "stdout",
     "output_type": "stream",
     "text": [
      "#-------------- Key Statistics for 'Trade Value' in North America -------------------#\n"
     ]
    },
    {
     "data": {
      "text/html": [
       "<div>\n",
       "<style scoped>\n",
       "    .dataframe tbody tr th:only-of-type {\n",
       "        vertical-align: middle;\n",
       "    }\n",
       "\n",
       "    .dataframe tbody tr th {\n",
       "        vertical-align: top;\n",
       "    }\n",
       "\n",
       "    .dataframe thead th {\n",
       "        text-align: right;\n",
       "    }\n",
       "</style>\n",
       "<table border=\"1\" class=\"dataframe\">\n",
       "  <thead>\n",
       "    <tr style=\"text-align: right;\">\n",
       "      <th></th>\n",
       "      <th>count</th>\n",
       "      <th>mean</th>\n",
       "      <th>std</th>\n",
       "      <th>min</th>\n",
       "      <th>25%</th>\n",
       "      <th>50%</th>\n",
       "      <th>75%</th>\n",
       "      <th>max</th>\n",
       "      <th>Range</th>\n",
       "      <th>Variance</th>\n",
       "    </tr>\n",
       "  </thead>\n",
       "  <tbody>\n",
       "    <tr>\n",
       "      <th>Trade Value</th>\n",
       "      <td>17.0</td>\n",
       "      <td>3.833531e+09</td>\n",
       "      <td>1.007707e+10</td>\n",
       "      <td>16.0</td>\n",
       "      <td>2831.0</td>\n",
       "      <td>40507422.0</td>\n",
       "      <td>107960984.0</td>\n",
       "      <td>3.924129e+10</td>\n",
       "      <td>3.924129e+10</td>\n",
       "      <td>1.015473e+20</td>\n",
       "    </tr>\n",
       "  </tbody>\n",
       "</table>\n",
       "</div>"
      ],
      "text/plain": [
       "             count          mean           std   min     25%         50%  \\\n",
       "Trade Value   17.0  3.833531e+09  1.007707e+10  16.0  2831.0  40507422.0   \n",
       "\n",
       "                     75%           max         Range      Variance  \n",
       "Trade Value  107960984.0  3.924129e+10  3.924129e+10  1.015473e+20  "
      ]
     },
     "execution_count": 19,
     "metadata": {},
     "output_type": "execute_result"
    }
   ],
   "source": [
    "print(\"#-------------- Key Statistics for 'Trade Value' in North America -------------------#\")\n",
    "north_america_trade_stats = north_america_data['Trade Value'].describe().to_frame().T\n",
    "north_america_trade_stats['Range'] = north_america_trade_stats['max'] - north_america_trade_stats['min']\n",
    "north_america_trade_stats['Variance'] = north_america_data['Trade Value'].var()\n",
    "\n",
    "north_america_trade_stats[['count', 'mean', 'std', 'min', '25%', '50%', '75%', 'max', 'Range', 'Variance']]"
   ]
  },
  {
   "cell_type": "code",
   "execution_count": 20,
   "id": "631d9913-2393-4c28-87e6-734f7429ba6e",
   "metadata": {},
   "outputs": [
    {
     "name": "stdout",
     "output_type": "stream",
     "text": [
      "#-------------- Key Statistics for 'Trade Value' in Oceania -------------------#\n"
     ]
    },
    {
     "data": {
      "text/html": [
       "<div>\n",
       "<style scoped>\n",
       "    .dataframe tbody tr th:only-of-type {\n",
       "        vertical-align: middle;\n",
       "    }\n",
       "\n",
       "    .dataframe tbody tr th {\n",
       "        vertical-align: top;\n",
       "    }\n",
       "\n",
       "    .dataframe thead th {\n",
       "        text-align: right;\n",
       "    }\n",
       "</style>\n",
       "<table border=\"1\" class=\"dataframe\">\n",
       "  <thead>\n",
       "    <tr style=\"text-align: right;\">\n",
       "      <th></th>\n",
       "      <th>count</th>\n",
       "      <th>mean</th>\n",
       "      <th>std</th>\n",
       "      <th>min</th>\n",
       "      <th>25%</th>\n",
       "      <th>50%</th>\n",
       "      <th>75%</th>\n",
       "      <th>max</th>\n",
       "      <th>Range</th>\n",
       "      <th>Variance</th>\n",
       "    </tr>\n",
       "  </thead>\n",
       "  <tbody>\n",
       "    <tr>\n",
       "      <th>Trade Value</th>\n",
       "      <td>7.0</td>\n",
       "      <td>6.899511e+08</td>\n",
       "      <td>1.384608e+09</td>\n",
       "      <td>3.0</td>\n",
       "      <td>2209.0</td>\n",
       "      <td>45822.0</td>\n",
       "      <td>525807259.0</td>\n",
       "      <td>3.777993e+09</td>\n",
       "      <td>3.777993e+09</td>\n",
       "      <td>1.917140e+18</td>\n",
       "    </tr>\n",
       "  </tbody>\n",
       "</table>\n",
       "</div>"
      ],
      "text/plain": [
       "             count          mean           std  min     25%      50%  \\\n",
       "Trade Value    7.0  6.899511e+08  1.384608e+09  3.0  2209.0  45822.0   \n",
       "\n",
       "                     75%           max         Range      Variance  \n",
       "Trade Value  525807259.0  3.777993e+09  3.777993e+09  1.917140e+18  "
      ]
     },
     "execution_count": 20,
     "metadata": {},
     "output_type": "execute_result"
    }
   ],
   "source": [
    "print(\"#-------------- Key Statistics for 'Trade Value' in Oceania -------------------#\")\n",
    "oceania_trade_stats = oceania_data['Trade Value'].describe().to_frame().T\n",
    "oceania_trade_stats['Range'] = oceania_trade_stats['max'] - oceania_trade_stats['min']\n",
    "oceania_trade_stats['Variance'] = oceania_data['Trade Value'].var()\n",
    "\n",
    "oceania_trade_stats[['count', 'mean', 'std', 'min', '25%', '50%', '75%', 'max', 'Range', 'Variance']]"
   ]
  },
  {
   "cell_type": "code",
   "execution_count": 21,
   "id": "061e2d7d-1b21-40bf-9e83-58309bddbfbf",
   "metadata": {},
   "outputs": [
    {
     "name": "stdout",
     "output_type": "stream",
     "text": [
      "#-------------- Key Statistics for 'Trade Value' in South America -------------------#\n"
     ]
    },
    {
     "data": {
      "text/html": [
       "<div>\n",
       "<style scoped>\n",
       "    .dataframe tbody tr th:only-of-type {\n",
       "        vertical-align: middle;\n",
       "    }\n",
       "\n",
       "    .dataframe tbody tr th {\n",
       "        vertical-align: top;\n",
       "    }\n",
       "\n",
       "    .dataframe thead th {\n",
       "        text-align: right;\n",
       "    }\n",
       "</style>\n",
       "<table border=\"1\" class=\"dataframe\">\n",
       "  <thead>\n",
       "    <tr style=\"text-align: right;\">\n",
       "      <th></th>\n",
       "      <th>count</th>\n",
       "      <th>mean</th>\n",
       "      <th>std</th>\n",
       "      <th>min</th>\n",
       "      <th>25%</th>\n",
       "      <th>50%</th>\n",
       "      <th>75%</th>\n",
       "      <th>max</th>\n",
       "      <th>Range</th>\n",
       "      <th>Variance</th>\n",
       "    </tr>\n",
       "  </thead>\n",
       "  <tbody>\n",
       "    <tr>\n",
       "      <th>Trade Value</th>\n",
       "      <td>9.0</td>\n",
       "      <td>4.882890e+09</td>\n",
       "      <td>6.590704e+09</td>\n",
       "      <td>12.0</td>\n",
       "      <td>45079112.0</td>\n",
       "      <td>766766294.0</td>\n",
       "      <td>8.146821e+09</td>\n",
       "      <td>1.849616e+10</td>\n",
       "      <td>1.849616e+10</td>\n",
       "      <td>4.343738e+19</td>\n",
       "    </tr>\n",
       "  </tbody>\n",
       "</table>\n",
       "</div>"
      ],
      "text/plain": [
       "             count          mean           std   min         25%          50%  \\\n",
       "Trade Value    9.0  4.882890e+09  6.590704e+09  12.0  45079112.0  766766294.0   \n",
       "\n",
       "                      75%           max         Range      Variance  \n",
       "Trade Value  8.146821e+09  1.849616e+10  1.849616e+10  4.343738e+19  "
      ]
     },
     "execution_count": 21,
     "metadata": {},
     "output_type": "execute_result"
    }
   ],
   "source": [
    "print(\"#-------------- Key Statistics for 'Trade Value' in South America -------------------#\")\n",
    "south_america_trade_stats = south_america_data['Trade Value'].describe().to_frame().T\n",
    "south_america_trade_stats['Range'] = south_america_trade_stats['max'] - south_america_trade_stats['min']\n",
    "south_america_trade_stats['Variance'] = south_america_data['Trade Value'].var()\n",
    "\n",
    "south_america_trade_stats[['count', 'mean', 'std', 'min', '25%', '50%', '75%', 'max', 'Range', 'Variance']]"
   ]
  },
  {
   "cell_type": "code",
   "execution_count": 22,
   "id": "dba3ec0a-ac2e-4151-a0c5-68c8c9163b19",
   "metadata": {},
   "outputs": [
    {
     "name": "stdout",
     "output_type": "stream",
     "text": [
      "#-------------- Combine into a single DataFrame Key Statistics for 'Trade Value' for all Continents -------------------#\n"
     ]
    },
    {
     "data": {
      "text/html": [
       "<div>\n",
       "<style scoped>\n",
       "    .dataframe tbody tr th:only-of-type {\n",
       "        vertical-align: middle;\n",
       "    }\n",
       "\n",
       "    .dataframe tbody tr th {\n",
       "        vertical-align: top;\n",
       "    }\n",
       "\n",
       "    .dataframe thead th {\n",
       "        text-align: right;\n",
       "    }\n",
       "</style>\n",
       "<table border=\"1\" class=\"dataframe\">\n",
       "  <thead>\n",
       "    <tr style=\"text-align: right;\">\n",
       "      <th></th>\n",
       "      <th>count</th>\n",
       "      <th>mean</th>\n",
       "      <th>std</th>\n",
       "      <th>min</th>\n",
       "      <th>25%</th>\n",
       "      <th>50%</th>\n",
       "      <th>75%</th>\n",
       "      <th>max</th>\n",
       "      <th>Range</th>\n",
       "      <th>Variance</th>\n",
       "    </tr>\n",
       "  </thead>\n",
       "  <tbody>\n",
       "    <tr>\n",
       "      <th>Africa</th>\n",
       "      <td>37.0</td>\n",
       "      <td>2.676905e+09</td>\n",
       "      <td>6.655601e+09</td>\n",
       "      <td>66.0</td>\n",
       "      <td>37901.00</td>\n",
       "      <td>88521993.0</td>\n",
       "      <td>1.264327e+09</td>\n",
       "      <td>2.761690e+10</td>\n",
       "      <td>2.761690e+10</td>\n",
       "      <td>4.429703e+19</td>\n",
       "    </tr>\n",
       "    <tr>\n",
       "      <th>Asia</th>\n",
       "      <td>38.0</td>\n",
       "      <td>9.116962e+09</td>\n",
       "      <td>2.256798e+10</td>\n",
       "      <td>4.0</td>\n",
       "      <td>3478190.75</td>\n",
       "      <td>297777865.0</td>\n",
       "      <td>6.087088e+09</td>\n",
       "      <td>1.250000e+11</td>\n",
       "      <td>1.250000e+11</td>\n",
       "      <td>5.093136e+20</td>\n",
       "    </tr>\n",
       "    <tr>\n",
       "      <th>Europe</th>\n",
       "      <td>37.0</td>\n",
       "      <td>3.268712e+09</td>\n",
       "      <td>1.296895e+10</td>\n",
       "      <td>20.0</td>\n",
       "      <td>166306.00</td>\n",
       "      <td>11071060.0</td>\n",
       "      <td>2.455071e+08</td>\n",
       "      <td>7.556449e+10</td>\n",
       "      <td>7.556449e+10</td>\n",
       "      <td>1.681937e+20</td>\n",
       "    </tr>\n",
       "    <tr>\n",
       "      <th>North America</th>\n",
       "      <td>17.0</td>\n",
       "      <td>3.833531e+09</td>\n",
       "      <td>1.007707e+10</td>\n",
       "      <td>16.0</td>\n",
       "      <td>2831.00</td>\n",
       "      <td>40507422.0</td>\n",
       "      <td>1.079610e+08</td>\n",
       "      <td>3.924129e+10</td>\n",
       "      <td>3.924129e+10</td>\n",
       "      <td>1.015473e+20</td>\n",
       "    </tr>\n",
       "    <tr>\n",
       "      <th>Oceania</th>\n",
       "      <td>7.0</td>\n",
       "      <td>6.899511e+08</td>\n",
       "      <td>1.384608e+09</td>\n",
       "      <td>3.0</td>\n",
       "      <td>2209.00</td>\n",
       "      <td>45822.0</td>\n",
       "      <td>5.258073e+08</td>\n",
       "      <td>3.777993e+09</td>\n",
       "      <td>3.777993e+09</td>\n",
       "      <td>1.917140e+18</td>\n",
       "    </tr>\n",
       "    <tr>\n",
       "      <th>South America</th>\n",
       "      <td>9.0</td>\n",
       "      <td>4.882890e+09</td>\n",
       "      <td>6.590704e+09</td>\n",
       "      <td>12.0</td>\n",
       "      <td>45079112.00</td>\n",
       "      <td>766766294.0</td>\n",
       "      <td>8.146821e+09</td>\n",
       "      <td>1.849616e+10</td>\n",
       "      <td>1.849616e+10</td>\n",
       "      <td>4.343738e+19</td>\n",
       "    </tr>\n",
       "  </tbody>\n",
       "</table>\n",
       "</div>"
      ],
      "text/plain": [
       "               count          mean           std   min          25%  \\\n",
       "Africa          37.0  2.676905e+09  6.655601e+09  66.0     37901.00   \n",
       "Asia            38.0  9.116962e+09  2.256798e+10   4.0   3478190.75   \n",
       "Europe          37.0  3.268712e+09  1.296895e+10  20.0    166306.00   \n",
       "North America   17.0  3.833531e+09  1.007707e+10  16.0      2831.00   \n",
       "Oceania          7.0  6.899511e+08  1.384608e+09   3.0      2209.00   \n",
       "South America    9.0  4.882890e+09  6.590704e+09  12.0  45079112.00   \n",
       "\n",
       "                       50%           75%           max         Range  \\\n",
       "Africa          88521993.0  1.264327e+09  2.761690e+10  2.761690e+10   \n",
       "Asia           297777865.0  6.087088e+09  1.250000e+11  1.250000e+11   \n",
       "Europe          11071060.0  2.455071e+08  7.556449e+10  7.556449e+10   \n",
       "North America   40507422.0  1.079610e+08  3.924129e+10  3.924129e+10   \n",
       "Oceania            45822.0  5.258073e+08  3.777993e+09  3.777993e+09   \n",
       "South America  766766294.0  8.146821e+09  1.849616e+10  1.849616e+10   \n",
       "\n",
       "                   Variance  \n",
       "Africa         4.429703e+19  \n",
       "Asia           5.093136e+20  \n",
       "Europe         1.681937e+20  \n",
       "North America  1.015473e+20  \n",
       "Oceania        1.917140e+18  \n",
       "South America  4.343738e+19  "
      ]
     },
     "execution_count": 22,
     "metadata": {},
     "output_type": "execute_result"
    }
   ],
   "source": [
    "print(\"#-------------- Combine into a single DataFrame Key Statistics for 'Trade Value' for all Continents -------------------#\")\n",
    "africa_trade_stats.index = ['Africa']\n",
    "asia_trade_stats.index = ['Asia']\n",
    "europe_trade_stats.index = ['Europe']\n",
    "north_america_trade_stats.index = ['North America']\n",
    "oceania_trade_stats.index = ['Oceania']\n",
    "south_america_trade_stats.index = ['South America']\n",
    "\n",
    "combined_stats = pd.concat(\n",
    "    [africa_trade_stats, asia_trade_stats, europe_trade_stats, north_america_trade_stats, oceania_trade_stats, south_america_trade_stats]\n",
    ")[['count', 'mean', 'std', 'min', '25%', '50%', '75%', 'max', 'Range', 'Variance']]\n",
    "\n",
    "combined_stats"
   ]
  },
  {
   "cell_type": "code",
   "execution_count": 23,
   "id": "f7f13d9a-699e-4eb6-ac2e-9f789cc8a5aa",
   "metadata": {},
   "outputs": [
    {
     "name": "stdout",
     "output_type": "stream",
     "text": [
      "#-------------- Boxplot of Trade Values in Africa -------------------#\n",
      "#-------------- Top 5 African Countries by Trade Value -------------------#\n"
     ]
    },
    {
     "data": {
      "image/png": "[encoded data removed]",
      "text/plain": [
       "<Figure size 640x480 with 2 Axes>"
      ]
     },
     "metadata": {},
     "output_type": "display_data"
    }
   ],
   "source": [
    "print(\"#-------------- Boxplot of Trade Values in Africa -------------------#\")\n",
    "plt.subplot(1, 2, 1)\n",
    "sns.boxplot(y=africa_data['Trade Value'])\n",
    "plt.title('Trade Value Distribution (Africa)')\n",
    "plt.ylabel('Trade Value (USD)')\n",
    "\n",
    "print(\"#-------------- Top 5 African Countries by Trade Value -------------------#\")\n",
    "plt.subplot(1, 2, 2)\n",
    "top_5 = africa_data.nlargest(5, 'Trade Value')\n",
    "sns.barplot(x='Trade Value', y='Country', data=top_5, palette='viridis')\n",
    "plt.title('Top 5 African Exporters by Trade Value')\n",
    "plt.xlabel('Trade Value (USD)')\n",
    "\n",
    "plt.tight_layout()\n",
    "plt.show()"
   ]
  },
  {
   "cell_type": "code",
   "execution_count": 24,
   "id": "0f4c2559-d14e-49b8-9edb-1e2fef8ac737",
   "metadata": {},
   "outputs": [
    {
     "name": "stdout",
     "output_type": "stream",
     "text": [
      "#-------------- Boxplot of Trade Values in Asia -------------------#\n",
      "#-------------- Top 5 Asian Countries by Trade Value -------------------#\n"
     ]
    },
    {
     "data": {
      "image/png": "[encoded data removed]",
      "text/plain": [
       "<Figure size 640x480 with 2 Axes>"
      ]
     },
     "metadata": {},
     "output_type": "display_data"
    }
   ],
   "source": [
    "print(\"#-------------- Boxplot of Trade Values in Asia -------------------#\")\n",
    "plt.subplot(1, 2, 1)\n",
    "sns.boxplot(y=asia_data['Trade Value'])\n",
    "plt.title('Trade Value Distribution (Asia)')\n",
    "plt.ylabel('Trade Value (USD)')\n",
    "\n",
    "print(\"#-------------- Top 5 Asian Countries by Trade Value -------------------#\")\n",
    "plt.subplot(1, 2, 2)\n",
    "top_5 = asia_data.nlargest(5, 'Trade Value')\n",
    "sns.barplot(x='Trade Value', y='Country', data=top_5, palette='viridis')\n",
    "plt.title('Top 5 Asian Exporters by Trade Value')\n",
    "plt.xlabel('Trade Value (USD)')\n",
    "\n",
    "plt.tight_layout()\n",
    "plt.show()"
   ]
  },
  {
   "cell_type": "code",
   "execution_count": 25,
   "id": "f054e063-77d3-4d2c-849b-e70dd6611bc6",
   "metadata": {},
   "outputs": [
    {
     "name": "stdout",
     "output_type": "stream",
     "text": [
      "#-------------- Boxplot of Trade Values in Europe -------------------#\n",
      "#-------------- Top 5 European Countries by Trade Value -------------------#\n"
     ]
    },
    {
     "data": {
      "image/png": "[encoded data removed]",
      "text/plain": [
       "<Figure size 640x480 with 2 Axes>"
      ]
     },
     "metadata": {},
     "output_type": "display_data"
    }
   ],
   "source": [
    "print(\"#-------------- Boxplot of Trade Values in Europe -------------------#\")\n",
    "plt.subplot(1, 2, 1)\n",
    "sns.boxplot(y=europe_data['Trade Value'])\n",
    "plt.title('Trade Value Distribution (Europe)')\n",
    "plt.ylabel('Trade Value (USD)')\n",
    "\n",
    "print(\"#-------------- Top 5 European Countries by Trade Value -------------------#\")\n",
    "plt.subplot(1, 2, 2)\n",
    "top_5 = europe_data.nlargest(5, 'Trade Value')\n",
    "sns.barplot(x='Trade Value', y='Country', data=top_5, palette='viridis')\n",
    "plt.title('Top 5 European Exporters by Trade Value')\n",
    "plt.xlabel('Trade Value (USD)')\n",
    "\n",
    "plt.tight_layout()\n",
    "plt.show()"
   ]
  },
  {
   "cell_type": "code",
   "execution_count": 26,
   "id": "fefec4cb-21b3-46f9-b51d-aa24218db4c9",
   "metadata": {},
   "outputs": [
    {
     "name": "stdout",
     "output_type": "stream",
     "text": [
      "#-------------- Boxplot of Trade Values in North America -------------------#\n",
      "#-------------- Top 5 North American Countries by Trade Value -------------------#\n"
     ]
    },
    {
     "data": {
      "image/png": "[encoded data removed]",
      "text/plain": [
       "<Figure size 640x480 with 2 Axes>"
      ]
     },
     "metadata": {},
     "output_type": "display_data"
    }
   ],
   "source": [
    "print(\"#-------------- Boxplot of Trade Values in North America -------------------#\")\n",
    "plt.subplot(1, 2, 1)\n",
    "sns.boxplot(y=north_america_data['Trade Value'])\n",
    "plt.title('Trade Value Distribution (North America)')\n",
    "plt.ylabel('Trade Value (USD)')\n",
    "\n",
    "print(\"#-------------- Top 5 North American Countries by Trade Value -------------------#\")\n",
    "plt.subplot(1, 2, 2)\n",
    "top_5 = north_america_data.nlargest(5, 'Trade Value')\n",
    "sns.barplot(x='Trade Value', y='Country', data=top_5, palette='viridis')\n",
    "plt.title('Top 5 North American Exporters by Trade Value')\n",
    "plt.xlabel('Trade Value (USD)')\n",
    "\n",
    "plt.tight_layout()\n",
    "plt.show()"
   ]
  },
  {
   "cell_type": "code",
   "execution_count": 27,
   "id": "bd8f3925-dda2-4c5a-a609-0b48cf44c7c7",
   "metadata": {},
   "outputs": [
    {
     "name": "stdout",
     "output_type": "stream",
     "text": [
      "#-------------- Boxplot of Trade Values in Oceania -------------------#\n",
      "#-------------- Top 5 Oceanian Countries by Trade Value -------------------#\n"
     ]
    },
    {
     "data": {
      "image/png": "[encoded data removed]",
      "text/plain": [
       "<Figure size 640x480 with 2 Axes>"
      ]
     },
     "metadata": {},
     "output_type": "display_data"
    }
   ],
   "source": [
    "print(\"#-------------- Boxplot of Trade Values in Oceania -------------------#\")\n",
    "plt.subplot(1, 2, 1)\n",
    "sns.boxplot(y=oceania_data['Trade Value'])\n",
    "plt.title('Trade Value Distribution (Oceania)')\n",
    "plt.ylabel('Trade Value (USD)')\n",
    "\n",
    "print(\"#-------------- Top 5 Oceanian Countries by Trade Value -------------------#\")\n",
    "plt.subplot(1, 2, 2)\n",
    "top_5 = oceania_data.nlargest(5, 'Trade Value')\n",
    "sns.barplot(x='Trade Value', y='Country', data=top_5, palette='viridis')\n",
    "plt.title('Top 5 Oceanian Exporters by Trade Value')\n",
    "plt.xlabel('Trade Value (USD)')\n",
    "\n",
    "plt.tight_layout()\n",
    "plt.show()"
   ]
  },
  {
   "cell_type": "code",
   "execution_count": 28,
   "id": "f07ea663-d005-459d-92c5-9111ce53aa52",
   "metadata": {},
   "outputs": [
    {
     "name": "stdout",
     "output_type": "stream",
     "text": [
      "#-------------- Boxplot of Trade Values in South America -------------------#\n",
      "#-------------- Top 5 South American Countries by Trade Value -------------------#\n"
     ]
    },
    {
     "data": {
      "image/png": "[encoded data removed]",
      "text/plain": [
       "<Figure size 640x480 with 2 Axes>"
      ]
     },
     "metadata": {},
     "output_type": "display_data"
    }
   ],
   "source": [
    "print(\"#-------------- Boxplot of Trade Values in South America -------------------#\")\n",
    "plt.subplot(1, 2, 1)\n",
    "sns.boxplot(y=south_america_data['Trade Value'])\n",
    "plt.title('Trade Value Distribution (South America)')\n",
    "plt.ylabel('Trade Value (USD)')\n",
    "\n",
    "print(\"#-------------- Top 5 South American Countries by Trade Value -------------------#\")\n",
    "plt.subplot(1, 2, 2)\n",
    "top_5 = south_america_data.nlargest(5, 'Trade Value')\n",
    "sns.barplot(x='Trade Value', y='Country', data=top_5, palette='viridis')\n",
    "plt.title('Top 5 South American Exporters by Trade Value')\n",
    "plt.xlabel('Trade Value (USD)')\n",
    "\n",
    "plt.tight_layout()\n",
    "plt.show()"
   ]
  },
  {
   "cell_type": "code",
   "execution_count": 29,
   "id": "be581e70-ef76-452c-ad8f-24974ad4dc8b",
   "metadata": {
    "scrolled": true
   },
   "outputs": [
    {
     "name": "stdout",
     "output_type": "stream",
     "text": [
      "#-------------- Vertical Bar Chart (Mean Trade Value) -------------------#\n",
      "#-------------- Boxplot (Distribution Comparison) -------------------#\n"
     ]
    },
    {
     "data": {
      "image/png": "[encoded data removed]",
      "text/plain": [
       "<Figure size 1000x500 with 2 Axes>"
      ]
     },
     "metadata": {},
     "output_type": "display_data"
    }
   ],
   "source": [
    "# Visualization 1: Vertical Bar Chart (Mean Trade Value)\n",
    "print(\"#-------------- Vertical Bar Chart (Mean Trade Value) -------------------#\")\n",
    "plt.figure(figsize=(10, 5))\n",
    "plt.subplot(1, 2, 1)\n",
    "combined_stats['mean'].plot(kind='barh', color=['#1f77b4', '#ff7f0e'])  # Horizontal bars\n",
    "# combined_stats['mean'].plot(kind='bar', color=['#1f77b4', '#ff7f0e'])  # Horizontal bars\n",
    "plt.title('Mean Trade Value by Continent')\n",
    "plt.xlabel('Trade Value (USD)')\n",
    "plt.ylabel('Continent')\n",
    "\n",
    "# Visualization 2: Boxplot (Distribution Comparison)\n",
    "print(\"#-------------- Boxplot (Distribution Comparison) -------------------#\")\n",
    "plt.subplot(1, 2, 2)\n",
    "sns.boxplot(data=pd.concat(\n",
    "    [africa_data.assign(Continent='Africa'), asia_data.assign(Continent='Asia'),\n",
    "     north_america_data.assign(Continent='North America'), south_america_data.assign(Continent='South America'),\n",
    "    europe_data.assign(Continent='Europe'), oceania_data.assign(Continent='Oceania')]\n",
    "), \n",
    "            x='Trade Value', y='Continent', palette=['#1f77b4', '#ff7f0e'])\n",
    "plt.title('Trade Value Distribution by Continent')\n",
    "plt.xlabel('Trade Value (USD)')\n",
    "plt.ylabel('Continent')\n",
    "plt.xscale('log')  # Use log-scale for better outlier visibility\n",
    "\n",
    "plt.tight_layout()\n",
    "plt.show()"
   ]
  },
  {
   "cell_type": "code",
   "execution_count": 30,
   "id": "220d4f5e-3ec3-4c06-9f78-713ade6a305a",
   "metadata": {},
   "outputs": [
    {
     "name": "stdout",
     "output_type": "stream",
     "text": [
      "#-------------- Boxplot (Distribution Comparison) for North and South America -------------------#\n",
      "#-------------- Boxplot (Distribution Comparison) for Europe and Oceania -------------------#\n"
     ]
    },
    {
     "data": {
      "image/png": "[encoded data removed]",
      "text/plain": [
       "<Figure size 1000x500 with 2 Axes>"
      ]
     },
     "metadata": {},
     "output_type": "display_data"
    }
   ],
   "source": [
    "print(\"#-------------- Boxplot (Distribution Comparison) for North and South America -------------------#\")\n",
    "plt.figure(figsize=(10, 5))\n",
    "\n",
    "# Visualization 1: Boxplot (Distribution Comparison)\n",
    "plt.subplot(1, 2, 1)\n",
    "sns.boxplot(data=pd.concat([north_america_data.assign(Continent='North America'), south_america_data.assign(Continent='South America')]), \n",
    "            x='Trade Value', y='Continent', palette=['#1f77b4', '#ff7f0e'])\n",
    "plt.title('Trade Value Distribution by Continent')\n",
    "plt.xlabel('Trade Value (USD)')\n",
    "plt.ylabel('Continent')\n",
    "plt.xscale('log')  # Use log-scale for better outlier visibility\n",
    "\n",
    "print(\"#-------------- Boxplot (Distribution Comparison) for Europe and Oceania -------------------#\")\n",
    "plt.subplot(1, 2, 2)\n",
    "sns.boxplot(data=pd.concat([europe_data.assign(Continent='Europe'), oceania_data.assign(Continent='Oceania')]), \n",
    "            x='Trade Value', y='Continent', palette=['#1f77b4', '#ff7f0e'])\n",
    "plt.title('Trade Value Distribution by Continent')\n",
    "plt.xlabel('Trade Value (USD)')\n",
    "plt.ylabel('Continent')\n",
    "plt.xscale('log')  # Use log-scale for better outlier visibility\n",
    "\n",
    "plt.tight_layout()\n",
    "plt.show()"
   ]
  }
 ],
 "metadata": {
  "kernelspec": {
   "display_name": "Python 3 (ipykernel)",
   "language": "python",
   "name": "python3"
  },
  "language_info": {
   "codemirror_mode": {
    "name": "ipython",
    "version": 3
   },
   "file_extension": ".py",
   "mimetype": "text/x-python",
   "name": "python",
   "nbconvert_exporter": "python",
   "pygments_lexer": "ipython3",
   "version": "3.11.7"
  }
 },
 "nbformat": 4,
 "nbformat_minor": 5
}
